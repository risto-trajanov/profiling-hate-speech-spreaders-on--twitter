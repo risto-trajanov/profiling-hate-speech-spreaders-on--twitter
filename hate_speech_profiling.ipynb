{
  "nbformat": 4,
  "nbformat_minor": 5,
  "metadata": {
    "kernelspec": {
      "display_name": "Python 3",
      "language": "python",
      "name": "python3"
    },
    "language_info": {
      "codemirror_mode": {
        "name": "ipython",
        "version": 3
      },
      "file_extension": ".py",
      "mimetype": "text/x-python",
      "name": "python",
      "nbconvert_exporter": "python",
      "pygments_lexer": "ipython3",
      "version": "3.7.9"
    },
    "colab": {
      "name": "hate-speech-profiling.ipynb",
      "provenance": [],
      "collapsed_sections": []
    },
    "accelerator": "GPU"
  },
  "cells": [
    {
      "cell_type": "markdown",
      "metadata": {
        "id": "green-chess"
      },
      "source": [
        "# Imports"
      ],
      "id": "green-chess"
    },
    {
      "cell_type": "code",
      "metadata": {
        "colab": {
          "base_uri": "https://localhost:8080/"
        },
        "id": "FOcRLcsiYyRi",
        "outputId": "f3977820-05b8-40ae-8d60-453ead54253c"
      },
      "source": [
        "from google.colab import drive\n",
        "drive.mount('/content/drive')"
      ],
      "id": "FOcRLcsiYyRi",
      "execution_count": null,
      "outputs": [
        {
          "output_type": "stream",
          "text": [
            "Drive already mounted at /content/drive; to attempt to forcibly remount, call drive.mount(\"/content/drive\", force_remount=True).\n"
          ],
          "name": "stdout"
        }
      ]
    },
    {
      "cell_type": "code",
      "metadata": {
        "colab": {
          "base_uri": "https://localhost:8080/"
        },
        "id": "g573ru6TZUh7",
        "outputId": "5eb4b241-0826-4572-8cc3-2977d176e804"
      },
      "source": [
        "%cd drive/MyDrive/Fax/FINKI/Semestar-7/NLP/Project/"
      ],
      "id": "g573ru6TZUh7",
      "execution_count": null,
      "outputs": [
        {
          "output_type": "stream",
          "text": [
            "[Errno 2] No such file or directory: 'drive/MyDrive/Fax/FINKI/Semestar-7/NLP/Project/'\n",
            "/content/drive/MyDrive/Fax/FINKI/Semestar-7/NLP/Project\n"
          ],
          "name": "stdout"
        }
      ]
    },
    {
      "cell_type": "code",
      "metadata": {
        "colab": {
          "base_uri": "https://localhost:8080/"
        },
        "id": "IcE42GM_Ze1l",
        "outputId": "fe1e0d63-4abd-40b6-d78f-5b4889d80acb"
      },
      "source": [
        "pip install transformers"
      ],
      "id": "IcE42GM_Ze1l",
      "execution_count": null,
      "outputs": [
        {
          "output_type": "stream",
          "text": [
            "Requirement already satisfied: transformers in /usr/local/lib/python3.7/dist-packages (4.8.2)\n",
            "Requirement already satisfied: regex!=2019.12.17 in /usr/local/lib/python3.7/dist-packages (from transformers) (2019.12.20)\n",
            "Requirement already satisfied: filelock in /usr/local/lib/python3.7/dist-packages (from transformers) (3.0.12)\n",
            "Requirement already satisfied: pyyaml in /usr/local/lib/python3.7/dist-packages (from transformers) (3.13)\n",
            "Requirement already satisfied: tqdm>=4.27 in /usr/local/lib/python3.7/dist-packages (from transformers) (4.41.1)\n",
            "Requirement already satisfied: sacremoses in /usr/local/lib/python3.7/dist-packages (from transformers) (0.0.45)\n",
            "Requirement already satisfied: huggingface-hub==0.0.12 in /usr/local/lib/python3.7/dist-packages (from transformers) (0.0.12)\n",
            "Requirement already satisfied: importlib-metadata in /usr/local/lib/python3.7/dist-packages (from transformers) (4.6.1)\n",
            "Requirement already satisfied: packaging in /usr/local/lib/python3.7/dist-packages (from transformers) (21.0)\n",
            "Requirement already satisfied: tokenizers<0.11,>=0.10.1 in /usr/local/lib/python3.7/dist-packages (from transformers) (0.10.3)\n",
            "Requirement already satisfied: numpy>=1.17 in /usr/local/lib/python3.7/dist-packages (from transformers) (1.19.5)\n",
            "Requirement already satisfied: requests in /usr/local/lib/python3.7/dist-packages (from transformers) (2.23.0)\n",
            "Requirement already satisfied: typing-extensions in /usr/local/lib/python3.7/dist-packages (from huggingface-hub==0.0.12->transformers) (3.7.4.3)\n",
            "Requirement already satisfied: pyparsing>=2.0.2 in /usr/local/lib/python3.7/dist-packages (from packaging->transformers) (2.4.7)\n",
            "Requirement already satisfied: zipp>=0.5 in /usr/local/lib/python3.7/dist-packages (from importlib-metadata->transformers) (3.5.0)\n",
            "Requirement already satisfied: chardet<4,>=3.0.2 in /usr/local/lib/python3.7/dist-packages (from requests->transformers) (3.0.4)\n",
            "Requirement already satisfied: urllib3!=1.25.0,!=1.25.1,<1.26,>=1.21.1 in /usr/local/lib/python3.7/dist-packages (from requests->transformers) (1.24.3)\n",
            "Requirement already satisfied: idna<3,>=2.5 in /usr/local/lib/python3.7/dist-packages (from requests->transformers) (2.10)\n",
            "Requirement already satisfied: certifi>=2017.4.17 in /usr/local/lib/python3.7/dist-packages (from requests->transformers) (2021.5.30)\n",
            "Requirement already satisfied: six in /usr/local/lib/python3.7/dist-packages (from sacremoses->transformers) (1.15.0)\n",
            "Requirement already satisfied: joblib in /usr/local/lib/python3.7/dist-packages (from sacremoses->transformers) (1.0.1)\n",
            "Requirement already satisfied: click in /usr/local/lib/python3.7/dist-packages (from sacremoses->transformers) (7.1.2)\n"
          ],
          "name": "stdout"
        }
      ]
    },
    {
      "cell_type": "code",
      "metadata": {
        "colab": {
          "base_uri": "https://localhost:8080/"
        },
        "id": "EmPzZA5HZsIK",
        "outputId": "6396d93b-dafd-48ae-e3b4-5ef7a21bde3c"
      },
      "source": [
        "import nltk\n",
        "nltk.download('stopwords')\n",
        "nltk.download('punkt')\n",
        "nltk.download('wordnet')"
      ],
      "id": "EmPzZA5HZsIK",
      "execution_count": null,
      "outputs": [
        {
          "output_type": "stream",
          "text": [
            "[nltk_data] Downloading package stopwords to /root/nltk_data...\n",
            "[nltk_data]   Package stopwords is already up-to-date!\n",
            "[nltk_data] Downloading package punkt to /root/nltk_data...\n",
            "[nltk_data]   Package punkt is already up-to-date!\n",
            "[nltk_data] Downloading package wordnet to /root/nltk_data...\n",
            "[nltk_data]   Package wordnet is already up-to-date!\n"
          ],
          "name": "stdout"
        },
        {
          "output_type": "execute_result",
          "data": {
            "text/plain": [
              "True"
            ]
          },
          "metadata": {
            "tags": []
          },
          "execution_count": 69
        }
      ]
    },
    {
      "cell_type": "code",
      "metadata": {
        "id": "divided-kenya"
      },
      "source": [
        "import pandas as pd\n",
        "import numpy as np\n",
        "import os\n",
        "import nltk\n",
        "import re\n",
        "import seaborn as sns\n",
        "import spacy\n",
        "import xml.etree.ElementTree as ET\n",
        "from transformers import RobertaConfig, RobertaModel, RobertaTokenizer, RobertaForSequenceClassification, AdamW\n",
        "from sklearn.model_selection import train_test_split\n",
        "from sklearn.metrics import accuracy_score\n",
        "from nltk.tokenize import word_tokenize\n",
        "from collections import Counter\n",
        "from nltk.corpus import stopwords\n",
        "stop_words = set(stopwords.words('english')) \n",
        "lemmatizer = nltk.WordNetLemmatizer()"
      ],
      "id": "divided-kenya",
      "execution_count": null,
      "outputs": []
    },
    {
      "cell_type": "code",
      "metadata": {
        "colab": {
          "base_uri": "https://localhost:8080/"
        },
        "id": "typical-sequence",
        "outputId": "44b31a7a-c6c2-4887-ae88-cd4285c61ac1"
      },
      "source": [
        "import torch\n",
        "\n",
        "# If there's a GPU available...\n",
        "if torch.cuda.is_available():    \n",
        "\n",
        "    # Tell PyTorch to use the GPU.    \n",
        "    device = torch.device(\"cuda\")\n",
        "\n",
        "    print('There are %d GPU(s) available.' % torch.cuda.device_count())\n",
        "\n",
        "    print('We will use the GPU:', torch.cuda.get_device_name(0))\n",
        "\n",
        "# If not...\n",
        "else:\n",
        "    print('No GPU available, using the CPU instead.')\n",
        "    device = torch.device(\"cpu\")"
      ],
      "id": "typical-sequence",
      "execution_count": null,
      "outputs": [
        {
          "output_type": "stream",
          "text": [
            "There are 1 GPU(s) available.\n",
            "We will use the GPU: Tesla T4\n"
          ],
          "name": "stdout"
        }
      ]
    },
    {
      "cell_type": "markdown",
      "metadata": {
        "id": "academic-attempt"
      },
      "source": [
        "# Data "
      ],
      "id": "academic-attempt"
    },
    {
      "cell_type": "code",
      "metadata": {
        "id": "adverse-childhood"
      },
      "source": [
        "pwd = '/content/drive/MyDrive/Fax/FINKI/Semestar-7/NLP/Project'\n",
        "data_folder = f'{pwd}/data/'\n",
        "truth_file = f'{pwd}/data/truth.txt'"
      ],
      "id": "adverse-childhood",
      "execution_count": null,
      "outputs": []
    },
    {
      "cell_type": "code",
      "metadata": {
        "colab": {
          "base_uri": "https://localhost:8080/"
        },
        "id": "answering-pledge",
        "outputId": "98e33bb0-c583-450a-b560-af773851aa81"
      },
      "source": [
        "truth_df = pd.read_csv(truth_file, delimiter=\":::\", header=None)\n",
        "truth_df.columns = ['id', 'class']"
      ],
      "id": "answering-pledge",
      "execution_count": null,
      "outputs": [
        {
          "output_type": "stream",
          "text": [
            "/usr/local/lib/python3.7/dist-packages/ipykernel_launcher.py:1: ParserWarning: Falling back to the 'python' engine because the 'c' engine does not support regex separators (separators > 1 char and different from '\\s+' are interpreted as regex); you can avoid this warning by specifying engine='python'.\n",
            "  \"\"\"Entry point for launching an IPython kernel.\n"
          ],
          "name": "stderr"
        }
      ]
    },
    {
      "cell_type": "code",
      "metadata": {
        "id": "incomplete-paper"
      },
      "source": [
        "data_files = os.listdir(data_folder)"
      ],
      "id": "incomplete-paper",
      "execution_count": null,
      "outputs": []
    },
    {
      "cell_type": "code",
      "metadata": {
        "id": "robust-sunset"
      },
      "source": [
        "tweets = []\n",
        "class_list = []\n",
        "for file in data_files:\n",
        "    if file.endswith('.xml'):\n",
        "        root = ET.parse(data_folder + file).getroot()\n",
        "        for node in root.iter('documents'):\n",
        "            for elem in node.iter():\n",
        "                if not elem.tag==node.tag:\n",
        "                    class_item = truth_df[truth_df['id'] == file[:-4]]['class'].item()\n",
        "                    class_list.append(class_item)\n",
        "                    tweets.append(elem.text)"
      ],
      "id": "robust-sunset",
      "execution_count": null,
      "outputs": []
    },
    {
      "cell_type": "code",
      "metadata": {
        "id": "stuffed-adapter"
      },
      "source": [
        "df = pd.DataFrame({'tweet': tweets, 'class': class_list})"
      ],
      "id": "stuffed-adapter",
      "execution_count": null,
      "outputs": []
    },
    {
      "cell_type": "code",
      "metadata": {
        "colab": {
          "base_uri": "https://localhost:8080/"
        },
        "id": "aggressive-feedback",
        "outputId": "dcb3eafa-9d91-4fd2-8f4d-c1e8304eeebf"
      },
      "source": [
        "df"
      ],
      "id": "aggressive-feedback",
      "execution_count": null,
      "outputs": [
        {
          "output_type": "execute_result",
          "data": {
            "text/html": [
              "<div>\n",
              "<style scoped>\n",
              "    .dataframe tbody tr th:only-of-type {\n",
              "        vertical-align: middle;\n",
              "    }\n",
              "\n",
              "    .dataframe tbody tr th {\n",
              "        vertical-align: top;\n",
              "    }\n",
              "\n",
              "    .dataframe thead th {\n",
              "        text-align: right;\n",
              "    }\n",
              "</style>\n",
              "<table border=\"1\" class=\"dataframe\">\n",
              "  <thead>\n",
              "    <tr style=\"text-align: right;\">\n",
              "      <th></th>\n",
              "      <th>tweet</th>\n",
              "      <th>class</th>\n",
              "    </tr>\n",
              "  </thead>\n",
              "  <tbody>\n",
              "    <tr>\n",
              "      <th>0</th>\n",
              "      <td>Mississippi Governor Bans Transgenders From Pa...</td>\n",
              "      <td>0</td>\n",
              "    </tr>\n",
              "    <tr>\n",
              "      <th>1</th>\n",
              "      <td>LIBERAL LUNACY: Ice Cream Flavor Name Changed ...</td>\n",
              "      <td>0</td>\n",
              "    </tr>\n",
              "    <tr>\n",
              "      <th>2</th>\n",
              "      <td>AOC, Nadler Call on N.Y. Gov. Andrew Cuomo to ...</td>\n",
              "      <td>0</td>\n",
              "    </tr>\n",
              "    <tr>\n",
              "      <th>3</th>\n",
              "      <td>WATCH: Mark Levin goes NUCLEAR on Joe Biden fo...</td>\n",
              "      <td>0</td>\n",
              "    </tr>\n",
              "    <tr>\n",
              "      <th>4</th>\n",
              "      <td>New York Legislature Just Took 'First Step' To...</td>\n",
              "      <td>0</td>\n",
              "    </tr>\n",
              "    <tr>\n",
              "      <th>...</th>\n",
              "      <td>...</td>\n",
              "      <td>...</td>\n",
              "    </tr>\n",
              "    <tr>\n",
              "      <th>39995</th>\n",
              "      <td>😂😂😂periodt i had to put my name in all CAPS #URL#</td>\n",
              "      <td>1</td>\n",
              "    </tr>\n",
              "    <tr>\n",
              "      <th>39996</th>\n",
              "      <td>RT #USER#: sorry if im becoming distant, im tr...</td>\n",
              "      <td>1</td>\n",
              "    </tr>\n",
              "    <tr>\n",
              "      <th>39997</th>\n",
              "      <td>RT #USER#: My next hair appointment the only t...</td>\n",
              "      <td>1</td>\n",
              "    </tr>\n",
              "    <tr>\n",
              "      <th>39998</th>\n",
              "      <td>RT #USER#: One thing about me ima go to sleep. 😂</td>\n",
              "      <td>1</td>\n",
              "    </tr>\n",
              "    <tr>\n",
              "      <th>39999</th>\n",
              "      <td>RT #USER#: 1 thing bout me I don’t be giving a...</td>\n",
              "      <td>1</td>\n",
              "    </tr>\n",
              "  </tbody>\n",
              "</table>\n",
              "<p>40000 rows × 2 columns</p>\n",
              "</div>"
            ],
            "text/plain": [
              "                                                   tweet  class\n",
              "0      Mississippi Governor Bans Transgenders From Pa...      0\n",
              "1      LIBERAL LUNACY: Ice Cream Flavor Name Changed ...      0\n",
              "2      AOC, Nadler Call on N.Y. Gov. Andrew Cuomo to ...      0\n",
              "3      WATCH: Mark Levin goes NUCLEAR on Joe Biden fo...      0\n",
              "4      New York Legislature Just Took 'First Step' To...      0\n",
              "...                                                  ...    ...\n",
              "39995  😂😂😂periodt i had to put my name in all CAPS #URL#      1\n",
              "39996  RT #USER#: sorry if im becoming distant, im tr...      1\n",
              "39997  RT #USER#: My next hair appointment the only t...      1\n",
              "39998   RT #USER#: One thing about me ima go to sleep. 😂      1\n",
              "39999  RT #USER#: 1 thing bout me I don’t be giving a...      1\n",
              "\n",
              "[40000 rows x 2 columns]"
            ]
          },
          "metadata": {
            "tags": []
          },
          "execution_count": 124
        }
      ]
    },
    {
      "cell_type": "code",
      "metadata": {
        "id": "standing-square"
      },
      "source": [
        "df['tweet_low'] = df['tweet'].apply(lambda x: x if type(x)!=str else x.lower())"
      ],
      "id": "standing-square",
      "execution_count": null,
      "outputs": []
    },
    {
      "cell_type": "code",
      "metadata": {
        "id": "measured-worker"
      },
      "source": [
        "df['no_url'] = [tweet.replace('#url#', '') for tweet  in df['tweet_low']]"
      ],
      "id": "measured-worker",
      "execution_count": null,
      "outputs": []
    },
    {
      "cell_type": "code",
      "metadata": {
        "id": "drawn-genetics"
      },
      "source": [
        "df['no_user'] = [tweet.replace('#user#', '') for tweet  in df['no_url']]"
      ],
      "id": "drawn-genetics",
      "execution_count": null,
      "outputs": []
    },
    {
      "cell_type": "code",
      "metadata": {
        "id": "normal-contract"
      },
      "source": [
        "df['no_user_no_special'] = df['no_user'].str.replace(\"[^a-zA-Z#']\", \" \")"
      ],
      "id": "normal-contract",
      "execution_count": null,
      "outputs": []
    },
    {
      "cell_type": "code",
      "metadata": {
        "id": "individual-magic"
      },
      "source": [
        "tweets = df['no_user_no_special']\n",
        "tweets_clean = []\n",
        "for tweet in tweets:\n",
        "    tweet = nltk.word_tokenize(tweet)\n",
        "    tweet = [re.sub(r'[^\\w\\s]','',word) for word in tweet]\n",
        "    tweet = [lemmatizer.lemmatize(each_word) for each_word in tweet]\n",
        "    tweet = [word for word in tweet if not word in stop_words]\n",
        "    tweets_clean.append(' '.join(tweet))"
      ],
      "id": "individual-magic",
      "execution_count": null,
      "outputs": []
    },
    {
      "cell_type": "code",
      "metadata": {
        "id": "acting-going"
      },
      "source": [
        "df['removed_stop_and_lem'] = tweets_clean"
      ],
      "id": "acting-going",
      "execution_count": null,
      "outputs": []
    },
    {
      "cell_type": "code",
      "metadata": {
        "id": "grave-tower"
      },
      "source": [
        "df['tweet_length'] = df['removed_stop_and_lem'].apply(lambda x: len(x.split()))"
      ],
      "id": "grave-tower",
      "execution_count": null,
      "outputs": []
    },
    {
      "cell_type": "code",
      "metadata": {
        "colab": {
          "base_uri": "https://localhost:8080/"
        },
        "id": "naughty-intensity",
        "outputId": "2e2a65d0-d582-4d9e-d146-b1b1885d1a3e"
      },
      "source": [
        "df['tweet_length'].value_counts()"
      ],
      "id": "naughty-intensity",
      "execution_count": null,
      "outputs": [
        {
          "output_type": "execute_result",
          "data": {
            "text/plain": [
              "4     4829\n",
              "5     4547\n",
              "3     4486\n",
              "6     4187\n",
              "7     3849\n",
              "8     3539\n",
              "2     3103\n",
              "9     2976\n",
              "10    2484\n",
              "11    1811\n",
              "12    1290\n",
              "1     1085\n",
              "13     843\n",
              "14     456\n",
              "15     234\n",
              "16      99\n",
              "0       93\n",
              "17      47\n",
              "18      29\n",
              "19       8\n",
              "20       4\n",
              "21       1\n",
              "Name: tweet_length, dtype: int64"
            ]
          },
          "metadata": {
            "tags": []
          },
          "execution_count": 132
        }
      ]
    },
    {
      "cell_type": "code",
      "metadata": {
        "id": "political-input"
      },
      "source": [
        "df = df[df['tweet_length'] > 2]"
      ],
      "id": "political-input",
      "execution_count": null,
      "outputs": []
    },
    {
      "cell_type": "code",
      "metadata": {
        "colab": {
          "base_uri": "https://localhost:8080/"
        },
        "id": "passing-building",
        "outputId": "c0ce33b2-fd9a-449b-bea2-39397d8d2eb4"
      },
      "source": [
        "df"
      ],
      "id": "passing-building",
      "execution_count": null,
      "outputs": [
        {
          "output_type": "execute_result",
          "data": {
            "text/html": [
              "<div>\n",
              "<style scoped>\n",
              "    .dataframe tbody tr th:only-of-type {\n",
              "        vertical-align: middle;\n",
              "    }\n",
              "\n",
              "    .dataframe tbody tr th {\n",
              "        vertical-align: top;\n",
              "    }\n",
              "\n",
              "    .dataframe thead th {\n",
              "        text-align: right;\n",
              "    }\n",
              "</style>\n",
              "<table border=\"1\" class=\"dataframe\">\n",
              "  <thead>\n",
              "    <tr style=\"text-align: right;\">\n",
              "      <th></th>\n",
              "      <th>tweet</th>\n",
              "      <th>class</th>\n",
              "      <th>tweet_low</th>\n",
              "      <th>no_url</th>\n",
              "      <th>no_user</th>\n",
              "      <th>no_user_no_special</th>\n",
              "      <th>removed_stop_and_lem</th>\n",
              "      <th>tweet_length</th>\n",
              "    </tr>\n",
              "  </thead>\n",
              "  <tbody>\n",
              "    <tr>\n",
              "      <th>0</th>\n",
              "      <td>Mississippi Governor Bans Transgenders From Pa...</td>\n",
              "      <td>0</td>\n",
              "      <td>mississippi governor bans transgenders from pa...</td>\n",
              "      <td>mississippi governor bans transgenders from pa...</td>\n",
              "      <td>mississippi governor bans transgenders from pa...</td>\n",
              "      <td>mississippi governor bans transgenders from pa...</td>\n",
              "      <td>mississippi governor ban transgenders particip...</td>\n",
              "      <td>7</td>\n",
              "    </tr>\n",
              "    <tr>\n",
              "      <th>1</th>\n",
              "      <td>LIBERAL LUNACY: Ice Cream Flavor Name Changed ...</td>\n",
              "      <td>0</td>\n",
              "      <td>liberal lunacy: ice cream flavor name changed ...</td>\n",
              "      <td>liberal lunacy: ice cream flavor name changed ...</td>\n",
              "      <td>liberal lunacy: ice cream flavor name changed ...</td>\n",
              "      <td>liberal lunacy  ice cream flavor name changed ...</td>\n",
              "      <td>liberal lunacy ice cream flavor name changed d...</td>\n",
              "      <td>10</td>\n",
              "    </tr>\n",
              "    <tr>\n",
              "      <th>2</th>\n",
              "      <td>AOC, Nadler Call on N.Y. Gov. Andrew Cuomo to ...</td>\n",
              "      <td>0</td>\n",
              "      <td>aoc, nadler call on n.y. gov. andrew cuomo to ...</td>\n",
              "      <td>aoc, nadler call on n.y. gov. andrew cuomo to ...</td>\n",
              "      <td>aoc, nadler call on n.y. gov. andrew cuomo to ...</td>\n",
              "      <td>aoc  nadler call on n y  gov  andrew cuomo to ...</td>\n",
              "      <td>aoc nadler call n gov andrew cuomo resign via</td>\n",
              "      <td>9</td>\n",
              "    </tr>\n",
              "    <tr>\n",
              "      <th>3</th>\n",
              "      <td>WATCH: Mark Levin goes NUCLEAR on Joe Biden fo...</td>\n",
              "      <td>0</td>\n",
              "      <td>watch: mark levin goes nuclear on joe biden fo...</td>\n",
              "      <td>watch: mark levin goes nuclear on joe biden fo...</td>\n",
              "      <td>watch: mark levin goes nuclear on joe biden fo...</td>\n",
              "      <td>watch  mark levin goes nuclear on joe biden fo...</td>\n",
              "      <td>watch mark levin go nuclear joe biden trying t...</td>\n",
              "      <td>12</td>\n",
              "    </tr>\n",
              "    <tr>\n",
              "      <th>4</th>\n",
              "      <td>New York Legislature Just Took 'First Step' To...</td>\n",
              "      <td>0</td>\n",
              "      <td>new york legislature just took 'first step' to...</td>\n",
              "      <td>new york legislature just took 'first step' to...</td>\n",
              "      <td>new york legislature just took 'first step' to...</td>\n",
              "      <td>new york legislature just took 'first step' to...</td>\n",
              "      <td>new york legislature took first step  toward i...</td>\n",
              "      <td>10</td>\n",
              "    </tr>\n",
              "    <tr>\n",
              "      <th>...</th>\n",
              "      <td>...</td>\n",
              "      <td>...</td>\n",
              "      <td>...</td>\n",
              "      <td>...</td>\n",
              "      <td>...</td>\n",
              "      <td>...</td>\n",
              "      <td>...</td>\n",
              "      <td>...</td>\n",
              "    </tr>\n",
              "    <tr>\n",
              "      <th>39995</th>\n",
              "      <td>😂😂😂periodt i had to put my name in all CAPS #URL#</td>\n",
              "      <td>1</td>\n",
              "      <td>😂😂😂periodt i had to put my name in all caps #url#</td>\n",
              "      <td>😂😂😂periodt i had to put my name in all caps</td>\n",
              "      <td>😂😂😂periodt i had to put my name in all caps</td>\n",
              "      <td>periodt i had to put my name in all caps</td>\n",
              "      <td>periodt put name cap</td>\n",
              "      <td>4</td>\n",
              "    </tr>\n",
              "    <tr>\n",
              "      <th>39996</th>\n",
              "      <td>RT #USER#: sorry if im becoming distant, im tr...</td>\n",
              "      <td>1</td>\n",
              "      <td>rt #user#: sorry if im becoming distant, im tr...</td>\n",
              "      <td>rt #user#: sorry if im becoming distant, im tr...</td>\n",
              "      <td>rt : sorry if im becoming distant, im trying t...</td>\n",
              "      <td>rt   sorry if im becoming distant  im trying t...</td>\n",
              "      <td>rt sorry im becoming distant im trying</td>\n",
              "      <td>7</td>\n",
              "    </tr>\n",
              "    <tr>\n",
              "      <th>39997</th>\n",
              "      <td>RT #USER#: My next hair appointment the only t...</td>\n",
              "      <td>1</td>\n",
              "      <td>rt #user#: my next hair appointment the only t...</td>\n",
              "      <td>rt #user#: my next hair appointment the only t...</td>\n",
              "      <td>rt : my next hair appointment the only thing i...</td>\n",
              "      <td>rt   my next hair appointment the only thing i...</td>\n",
              "      <td>rt next hair appointment thing worried</td>\n",
              "      <td>6</td>\n",
              "    </tr>\n",
              "    <tr>\n",
              "      <th>39998</th>\n",
              "      <td>RT #USER#: One thing about me ima go to sleep. 😂</td>\n",
              "      <td>1</td>\n",
              "      <td>rt #user#: one thing about me ima go to sleep. 😂</td>\n",
              "      <td>rt #user#: one thing about me ima go to sleep. 😂</td>\n",
              "      <td>rt : one thing about me ima go to sleep. 😂</td>\n",
              "      <td>rt   one thing about me ima go to sleep</td>\n",
              "      <td>rt one thing ima go sleep</td>\n",
              "      <td>6</td>\n",
              "    </tr>\n",
              "    <tr>\n",
              "      <th>39999</th>\n",
              "      <td>RT #USER#: 1 thing bout me I don’t be giving a...</td>\n",
              "      <td>1</td>\n",
              "      <td>rt #user#: 1 thing bout me i don’t be giving a...</td>\n",
              "      <td>rt #user#: 1 thing bout me i don’t be giving a...</td>\n",
              "      <td>rt : 1 thing bout me i don’t be giving a damn ...</td>\n",
              "      <td>rt     thing bout me i don t be giving a damn ...</td>\n",
              "      <td>rt thing bout giving damn fuck</td>\n",
              "      <td>6</td>\n",
              "    </tr>\n",
              "  </tbody>\n",
              "</table>\n",
              "<p>35719 rows × 8 columns</p>\n",
              "</div>"
            ],
            "text/plain": [
              "                                                   tweet  ...  tweet_length\n",
              "0      Mississippi Governor Bans Transgenders From Pa...  ...             7\n",
              "1      LIBERAL LUNACY: Ice Cream Flavor Name Changed ...  ...            10\n",
              "2      AOC, Nadler Call on N.Y. Gov. Andrew Cuomo to ...  ...             9\n",
              "3      WATCH: Mark Levin goes NUCLEAR on Joe Biden fo...  ...            12\n",
              "4      New York Legislature Just Took 'First Step' To...  ...            10\n",
              "...                                                  ...  ...           ...\n",
              "39995  😂😂😂periodt i had to put my name in all CAPS #URL#  ...             4\n",
              "39996  RT #USER#: sorry if im becoming distant, im tr...  ...             7\n",
              "39997  RT #USER#: My next hair appointment the only t...  ...             6\n",
              "39998   RT #USER#: One thing about me ima go to sleep. 😂  ...             6\n",
              "39999  RT #USER#: 1 thing bout me I don’t be giving a...  ...             6\n",
              "\n",
              "[35719 rows x 8 columns]"
            ]
          },
          "metadata": {
            "tags": []
          },
          "execution_count": 134
        }
      ]
    },
    {
      "cell_type": "code",
      "metadata": {
        "id": "vu4PawD286N1"
      },
      "source": [
        "df.to_csv('dataset.csv')"
      ],
      "id": "vu4PawD286N1",
      "execution_count": null,
      "outputs": []
    },
    {
      "cell_type": "markdown",
      "metadata": {
        "id": "gorgeous-amount"
      },
      "source": [
        "# Model"
      ],
      "id": "gorgeous-amount"
    },
    {
      "cell_type": "code",
      "metadata": {
        "colab": {
          "base_uri": "https://localhost:8080/"
        },
        "id": "verbal-judge",
        "outputId": "05dac4b2-f0d0-472d-a69e-fc07954beb3c"
      },
      "source": [
        "model = RobertaForSequenceClassification.from_pretrained(\"roberta-base\", # 12-layer, 768-hidden, 12-heads, 125M parameters RoBERTa using the BERT-base architecture\n",
        "                                                                    num_labels = 2, # The number of output labels--2 for binary classification.\n",
        "                                                                                    # You can increase this for multi-class tasks.   \n",
        "                                                                    output_attentions = False, # Whether the model returns attentions weights.\n",
        "                                                                    output_hidden_states = False # Whether the model returns all hidden-states.\n",
        "                                                                )"
      ],
      "id": "verbal-judge",
      "execution_count": null,
      "outputs": [
        {
          "output_type": "stream",
          "text": [
            "Some weights of the model checkpoint at roberta-base were not used when initializing RobertaForSequenceClassification: ['lm_head.decoder.weight', 'lm_head.layer_norm.weight', 'lm_head.dense.bias', 'lm_head.dense.weight', 'lm_head.bias', 'lm_head.layer_norm.bias', 'roberta.pooler.dense.bias', 'roberta.pooler.dense.weight']\n",
            "- This IS expected if you are initializing RobertaForSequenceClassification from the checkpoint of a model trained on another task or with another architecture (e.g. initializing a BertForSequenceClassification model from a BertForPreTraining model).\n",
            "- This IS NOT expected if you are initializing RobertaForSequenceClassification from the checkpoint of a model that you expect to be exactly identical (initializing a BertForSequenceClassification model from a BertForSequenceClassification model).\n",
            "Some weights of RobertaForSequenceClassification were not initialized from the model checkpoint at roberta-base and are newly initialized: ['classifier.out_proj.weight', 'classifier.out_proj.bias', 'classifier.dense.weight', 'classifier.dense.bias']\n",
            "You should probably TRAIN this model on a down-stream task to be able to use it for predictions and inference.\n"
          ],
          "name": "stderr"
        }
      ]
    },
    {
      "cell_type": "code",
      "metadata": {
        "id": "verified-touch"
      },
      "source": [
        "tokenizer = RobertaTokenizer.from_pretrained(\"roberta-base\")\n",
        "roberta_tokenizer = RobertaTokenizer.from_pretrained(\"roberta-base\")"
      ],
      "id": "verified-touch",
      "execution_count": null,
      "outputs": []
    },
    {
      "cell_type": "code",
      "metadata": {
        "colab": {
          "base_uri": "https://localhost:8080/"
        },
        "id": "smoking-darwin",
        "outputId": "cdb309e7-efa3-484e-96ec-6486f64a6d68"
      },
      "source": [
        "df['tokenized'] = [tokenizer(tweet)['input_ids'] for tweet in df['removed_stop_and_lem']]"
      ],
      "id": "smoking-darwin",
      "execution_count": null,
      "outputs": [
        {
          "output_type": "stream",
          "text": [
            "/usr/local/lib/python3.7/dist-packages/ipykernel_launcher.py:1: SettingWithCopyWarning: \n",
            "A value is trying to be set on a copy of a slice from a DataFrame.\n",
            "Try using .loc[row_indexer,col_indexer] = value instead\n",
            "\n",
            "See the caveats in the documentation: https://pandas.pydata.org/pandas-docs/stable/user_guide/indexing.html#returning-a-view-versus-a-copy\n",
            "  \"\"\"Entry point for launching an IPython kernel.\n"
          ],
          "name": "stderr"
        }
      ]
    },
    {
      "cell_type": "code",
      "metadata": {
        "colab": {
          "base_uri": "https://localhost:8080/",
          "height": 553
        },
        "id": "metric-vaccine",
        "outputId": "8de67d51-a707-4355-82c2-bc38947f4318"
      },
      "source": [
        "df"
      ],
      "id": "metric-vaccine",
      "execution_count": null,
      "outputs": [
        {
          "output_type": "execute_result",
          "data": {
            "text/html": [
              "<div>\n",
              "<style scoped>\n",
              "    .dataframe tbody tr th:only-of-type {\n",
              "        vertical-align: middle;\n",
              "    }\n",
              "\n",
              "    .dataframe tbody tr th {\n",
              "        vertical-align: top;\n",
              "    }\n",
              "\n",
              "    .dataframe thead th {\n",
              "        text-align: right;\n",
              "    }\n",
              "</style>\n",
              "<table border=\"1\" class=\"dataframe\">\n",
              "  <thead>\n",
              "    <tr style=\"text-align: right;\">\n",
              "      <th></th>\n",
              "      <th>tweet</th>\n",
              "      <th>class</th>\n",
              "      <th>tweet_low</th>\n",
              "      <th>no_url</th>\n",
              "      <th>no_user</th>\n",
              "      <th>no_user_no_special</th>\n",
              "      <th>removed_stop_and_lem</th>\n",
              "      <th>tweet_length</th>\n",
              "      <th>tokenized</th>\n",
              "    </tr>\n",
              "  </thead>\n",
              "  <tbody>\n",
              "    <tr>\n",
              "      <th>0</th>\n",
              "      <td>Mississippi Governor Bans Transgenders From Pa...</td>\n",
              "      <td>0</td>\n",
              "      <td>mississippi governor bans transgenders from pa...</td>\n",
              "      <td>mississippi governor bans transgenders from pa...</td>\n",
              "      <td>mississippi governor bans transgenders from pa...</td>\n",
              "      <td>mississippi governor bans transgenders from pa...</td>\n",
              "      <td>mississippi governor ban transgenders particip...</td>\n",
              "      <td>7</td>\n",
              "      <td>[0, 17745, 3006, 37679, 2318, 2020, 6214, 571,...</td>\n",
              "    </tr>\n",
              "    <tr>\n",
              "      <th>1</th>\n",
              "      <td>LIBERAL LUNACY: Ice Cream Flavor Name Changed ...</td>\n",
              "      <td>0</td>\n",
              "      <td>liberal lunacy: ice cream flavor name changed ...</td>\n",
              "      <td>liberal lunacy: ice cream flavor name changed ...</td>\n",
              "      <td>liberal lunacy: ice cream flavor name changed ...</td>\n",
              "      <td>liberal lunacy  ice cream flavor name changed ...</td>\n",
              "      <td>liberal lunacy ice cream flavor name changed d...</td>\n",
              "      <td>10</td>\n",
              "      <td>[0, 37483, 11728, 5073, 2480, 6353, 12117, 766...</td>\n",
              "    </tr>\n",
              "    <tr>\n",
              "      <th>2</th>\n",
              "      <td>AOC, Nadler Call on N.Y. Gov. Andrew Cuomo to ...</td>\n",
              "      <td>0</td>\n",
              "      <td>aoc, nadler call on n.y. gov. andrew cuomo to ...</td>\n",
              "      <td>aoc, nadler call on n.y. gov. andrew cuomo to ...</td>\n",
              "      <td>aoc, nadler call on n.y. gov. andrew cuomo to ...</td>\n",
              "      <td>aoc  nadler call on n y  gov  andrew cuomo to ...</td>\n",
              "      <td>aoc nadler call n gov andrew cuomo resign via</td>\n",
              "      <td>9</td>\n",
              "      <td>[0, 102, 1975, 295, 625, 1371, 486, 295, 213, ...</td>\n",
              "    </tr>\n",
              "    <tr>\n",
              "      <th>3</th>\n",
              "      <td>WATCH: Mark Levin goes NUCLEAR on Joe Biden fo...</td>\n",
              "      <td>0</td>\n",
              "      <td>watch: mark levin goes nuclear on joe biden fo...</td>\n",
              "      <td>watch: mark levin goes nuclear on joe biden fo...</td>\n",
              "      <td>watch: mark levin goes nuclear on joe biden fo...</td>\n",
              "      <td>watch  mark levin goes nuclear on joe biden fo...</td>\n",
              "      <td>watch mark levin go nuclear joe biden trying t...</td>\n",
              "      <td>12</td>\n",
              "      <td>[0, 11018, 2458, 2084, 6320, 213, 1748, 13509,...</td>\n",
              "    </tr>\n",
              "    <tr>\n",
              "      <th>4</th>\n",
              "      <td>New York Legislature Just Took 'First Step' To...</td>\n",
              "      <td>0</td>\n",
              "      <td>new york legislature just took 'first step' to...</td>\n",
              "      <td>new york legislature just took 'first step' to...</td>\n",
              "      <td>new york legislature just took 'first step' to...</td>\n",
              "      <td>new york legislature just took 'first step' to...</td>\n",
              "      <td>new york legislature took first step  toward i...</td>\n",
              "      <td>10</td>\n",
              "      <td>[0, 4651, 1423, 9657, 9251, 362, 78, 1149, 143...</td>\n",
              "    </tr>\n",
              "    <tr>\n",
              "      <th>...</th>\n",
              "      <td>...</td>\n",
              "      <td>...</td>\n",
              "      <td>...</td>\n",
              "      <td>...</td>\n",
              "      <td>...</td>\n",
              "      <td>...</td>\n",
              "      <td>...</td>\n",
              "      <td>...</td>\n",
              "      <td>...</td>\n",
              "    </tr>\n",
              "    <tr>\n",
              "      <th>39995</th>\n",
              "      <td>😂😂😂periodt i had to put my name in all CAPS #URL#</td>\n",
              "      <td>1</td>\n",
              "      <td>😂😂😂periodt i had to put my name in all caps #url#</td>\n",
              "      <td>😂😂😂periodt i had to put my name in all caps</td>\n",
              "      <td>😂😂😂periodt i had to put my name in all caps</td>\n",
              "      <td>periodt i had to put my name in all caps</td>\n",
              "      <td>periodt put name cap</td>\n",
              "      <td>4</td>\n",
              "      <td>[0, 28030, 90, 342, 766, 2927, 2]</td>\n",
              "    </tr>\n",
              "    <tr>\n",
              "      <th>39996</th>\n",
              "      <td>RT #USER#: sorry if im becoming distant, im tr...</td>\n",
              "      <td>1</td>\n",
              "      <td>rt #user#: sorry if im becoming distant, im tr...</td>\n",
              "      <td>rt #user#: sorry if im becoming distant, im tr...</td>\n",
              "      <td>rt : sorry if im becoming distant, im trying t...</td>\n",
              "      <td>rt   sorry if im becoming distant  im trying t...</td>\n",
              "      <td>rt sorry im becoming distant im trying</td>\n",
              "      <td>7</td>\n",
              "      <td>[0, 9713, 6661, 4356, 1959, 13258, 4356, 667, 2]</td>\n",
              "    </tr>\n",
              "    <tr>\n",
              "      <th>39997</th>\n",
              "      <td>RT #USER#: My next hair appointment the only t...</td>\n",
              "      <td>1</td>\n",
              "      <td>rt #user#: my next hair appointment the only t...</td>\n",
              "      <td>rt #user#: my next hair appointment the only t...</td>\n",
              "      <td>rt : my next hair appointment the only thing i...</td>\n",
              "      <td>rt   my next hair appointment the only thing i...</td>\n",
              "      <td>rt next hair appointment thing worried</td>\n",
              "      <td>6</td>\n",
              "      <td>[0, 9713, 220, 2549, 4916, 631, 3915, 2]</td>\n",
              "    </tr>\n",
              "    <tr>\n",
              "      <th>39998</th>\n",
              "      <td>RT #USER#: One thing about me ima go to sleep. 😂</td>\n",
              "      <td>1</td>\n",
              "      <td>rt #user#: one thing about me ima go to sleep. 😂</td>\n",
              "      <td>rt #user#: one thing about me ima go to sleep. 😂</td>\n",
              "      <td>rt : one thing about me ima go to sleep. 😂</td>\n",
              "      <td>rt   one thing about me ima go to sleep</td>\n",
              "      <td>rt one thing ima go sleep</td>\n",
              "      <td>6</td>\n",
              "      <td>[0, 9713, 65, 631, 4356, 102, 213, 3581, 2]</td>\n",
              "    </tr>\n",
              "    <tr>\n",
              "      <th>39999</th>\n",
              "      <td>RT #USER#: 1 thing bout me I don’t be giving a...</td>\n",
              "      <td>1</td>\n",
              "      <td>rt #user#: 1 thing bout me i don’t be giving a...</td>\n",
              "      <td>rt #user#: 1 thing bout me i don’t be giving a...</td>\n",
              "      <td>rt : 1 thing bout me i don’t be giving a damn ...</td>\n",
              "      <td>rt     thing bout me i don t be giving a damn ...</td>\n",
              "      <td>rt thing bout giving damn fuck</td>\n",
              "      <td>6</td>\n",
              "      <td>[0, 9713, 631, 9953, 1311, 16490, 26536, 2]</td>\n",
              "    </tr>\n",
              "  </tbody>\n",
              "</table>\n",
              "<p>35719 rows × 9 columns</p>\n",
              "</div>"
            ],
            "text/plain": [
              "                                                   tweet  ...                                          tokenized\n",
              "0      Mississippi Governor Bans Transgenders From Pa...  ...  [0, 17745, 3006, 37679, 2318, 2020, 6214, 571,...\n",
              "1      LIBERAL LUNACY: Ice Cream Flavor Name Changed ...  ...  [0, 37483, 11728, 5073, 2480, 6353, 12117, 766...\n",
              "2      AOC, Nadler Call on N.Y. Gov. Andrew Cuomo to ...  ...  [0, 102, 1975, 295, 625, 1371, 486, 295, 213, ...\n",
              "3      WATCH: Mark Levin goes NUCLEAR on Joe Biden fo...  ...  [0, 11018, 2458, 2084, 6320, 213, 1748, 13509,...\n",
              "4      New York Legislature Just Took 'First Step' To...  ...  [0, 4651, 1423, 9657, 9251, 362, 78, 1149, 143...\n",
              "...                                                  ...  ...                                                ...\n",
              "39995  😂😂😂periodt i had to put my name in all CAPS #URL#  ...                  [0, 28030, 90, 342, 766, 2927, 2]\n",
              "39996  RT #USER#: sorry if im becoming distant, im tr...  ...   [0, 9713, 6661, 4356, 1959, 13258, 4356, 667, 2]\n",
              "39997  RT #USER#: My next hair appointment the only t...  ...           [0, 9713, 220, 2549, 4916, 631, 3915, 2]\n",
              "39998   RT #USER#: One thing about me ima go to sleep. 😂  ...        [0, 9713, 65, 631, 4356, 102, 213, 3581, 2]\n",
              "39999  RT #USER#: 1 thing bout me I don’t be giving a...  ...        [0, 9713, 631, 9953, 1311, 16490, 26536, 2]\n",
              "\n",
              "[35719 rows x 9 columns]"
            ]
          },
          "metadata": {
            "tags": []
          },
          "execution_count": 91
        }
      ]
    },
    {
      "cell_type": "code",
      "metadata": {
        "colab": {
          "base_uri": "https://localhost:8080/"
        },
        "id": "global-morris",
        "outputId": "92bf2659-f243-4aec-d148-ffadbc4a37e5"
      },
      "source": [
        "# Tokenize all of the sentences and map the tokens to thier word IDs.\n",
        "\n",
        "roberta_input_ids = []\n",
        "roberta_attention_masks = []\n",
        "sentence_ids = []\n",
        "counter = 0\n",
        "\n",
        "# For every sentence...\n",
        "for sent in df['removed_stop_and_lem']:\n",
        "    # `encode_plus` will:\n",
        "    #   (1) Tokenize the sentence.\n",
        "    #   (2) Prepend the `[CLS]` token to the start.\n",
        "    #   (3) Append the `[SEP]` token to the end.\n",
        "    #   (4) Map tokens to their IDs.\n",
        "    #   (5) Pad or truncate the sentence to `max_length`\n",
        "    #   (6) Create attention masks for [PAD] tokens.\n",
        "    \n",
        "    roberta_encoded_dict = roberta_tokenizer.encode_plus(\n",
        "                        sent,                      # Sentence to encode.\n",
        "                        add_special_tokens = True, # Add '[CLS]' and '[SEP]'\n",
        "                        max_length = 25,           # Pad & truncate all sentences.\n",
        "                        pad_to_max_length = True,\n",
        "                        return_attention_mask = True,   # Construct attn. masks.\n",
        "                        return_tensors = 'pt',     # Return pytorch tensors.\n",
        "                   )\n",
        "    # Add the encoded sentence to the list.    \n",
        "    roberta_input_ids.append(roberta_encoded_dict['input_ids'])\n",
        "    \n",
        "    # And its attention mask (simply differentiates padding from non-padding).\n",
        "    roberta_attention_masks.append(roberta_encoded_dict['attention_mask'])\n",
        "    \n",
        "    # collecting sentence_ids\n",
        "    sentence_ids.append(counter)\n",
        "    counter  = counter + 1\n",
        "    \n",
        "    \n",
        "    \n",
        "# Convert the lists into tensors.\n",
        "roberta_input_ids = torch.cat(roberta_input_ids, dim=0)\n",
        "roberta_attention_masks = torch.cat(roberta_attention_masks, dim=0)\n",
        "\n",
        "labels = torch.tensor(df['class'].values)\n",
        "sentence_ids = torch.tensor(sentence_ids)\n",
        "\n",
        "# Print sentence 0, now as a list of IDs.\n",
        "# print('Original: ', sentences[1])\n",
        "print('Token IDs RoBERTa:', roberta_input_ids[1])"
      ],
      "id": "global-morris",
      "execution_count": null,
      "outputs": [
        {
          "output_type": "stream",
          "text": [
            "Truncation was not explicitly activated but `max_length` is provided a specific value, please use `truncation=True` to explicitly truncate examples to max length. Defaulting to 'longest_first' truncation strategy. If you encode pairs of sequences (GLUE-style) with the tokenizer you can select this strategy more precisely by providing a specific strategy to `truncation`.\n",
            "/usr/local/lib/python3.7/dist-packages/transformers/tokenization_utils_base.py:2132: FutureWarning: The `pad_to_max_length` argument is deprecated and will be removed in a future version, use `padding=True` or `padding='longest'` to pad to the longest sequence in the batch, or use `padding='max_length'` to pad to a max length. In this case, you can give a specific length with `max_length` (e.g. `max_length=45`) or leave max_length to None to pad to the maximal input size of the model (e.g. 512 for Bert).\n",
            "  FutureWarning,\n"
          ],
          "name": "stderr"
        },
        {
          "output_type": "stream",
          "text": [
            "Token IDs RoBERTa: tensor([    0, 37483, 11728,  5073,  2480,  6353, 12117,   766,  1714,   528,\n",
            "         8222, 17984,     2,     1,     1,     1,     1,     1,     1,     1,\n",
            "            1,     1,     1,     1,     1])\n"
          ],
          "name": "stdout"
        }
      ]
    },
    {
      "cell_type": "code",
      "metadata": {
        "id": "beginning-lindsay"
      },
      "source": [
        "from torch.utils.data import TensorDataset, random_split\n",
        "# function to seed the script globally\n",
        "torch.manual_seed(0)\n",
        "\n",
        "# Combine the training inputs into a TensorDataset.\n",
        "roberta_dataset = TensorDataset(sentence_ids, roberta_input_ids, roberta_attention_masks, labels)"
      ],
      "id": "beginning-lindsay",
      "execution_count": null,
      "outputs": []
    },
    {
      "cell_type": "code",
      "metadata": {
        "colab": {
          "base_uri": "https://localhost:8080/"
        },
        "id": "affected-healthcare",
        "outputId": "7b29bd37-2d2e-4c62-9747-373aa20d5ed6"
      },
      "source": [
        "# function to remove sentice ids from the tensor dataset post train test split\n",
        "def index_remover(tensordata):\n",
        "    input_ids = []\n",
        "    attention_masks = []\n",
        "    labels = []\n",
        "   \n",
        "    for a,b,c,d in tensordata:\n",
        "        input_ids.append(b.tolist())\n",
        "        attention_masks.append(c.tolist())\n",
        "        labels.append(d.tolist())\n",
        "        \n",
        "    input_ids = torch.tensor(input_ids)\n",
        "    attention_masks = torch.tensor(attention_masks)\n",
        "    labels = torch.tensor(labels)\n",
        "    \n",
        "    final_dataset =  TensorDataset(input_ids, attention_masks, labels)\n",
        "    return final_dataset\n",
        "        \n",
        "# check\n",
        "trial_dataset =  index_remover(roberta_dataset)\n",
        "trial_dataset[0]"
      ],
      "id": "affected-healthcare",
      "execution_count": null,
      "outputs": [
        {
          "output_type": "execute_result",
          "data": {
            "text/plain": [
              "(tensor([    0, 17745,  3006, 37679,  2318,  2020,  6214,   571, 13563,  6051,\n",
              "          2182,  2414,     2,     1,     1,     1,     1,     1,     1,     1,\n",
              "             1,     1,     1,     1,     1]),\n",
              " tensor([1, 1, 1, 1, 1, 1, 1, 1, 1, 1, 1, 1, 1, 0, 0, 0, 0, 0, 0, 0, 0, 0, 0, 0,\n",
              "         0]),\n",
              " tensor(0))"
            ]
          },
          "metadata": {
            "tags": []
          },
          "execution_count": 94
        }
      ]
    },
    {
      "cell_type": "code",
      "metadata": {
        "colab": {
          "base_uri": "https://localhost:8080/"
        },
        "id": "arbitrary-command",
        "outputId": "0b9c5394-83ae-431f-f7d5-828c24e26906"
      },
      "source": [
        "# Create a 90-10 train-validation split.\n",
        "\n",
        "# Calculate the number of samples to include in each set.\n",
        "train_size = int(0.9 * len(roberta_dataset))\n",
        "val_size = len(roberta_dataset) - train_size\n",
        "\n",
        "# Divide the dataset by randomly selecting samples.\n",
        "roberta_train_dataset, roberta_val_dataset = random_split(roberta_dataset, [train_size, val_size])\n",
        "\n",
        "# Checking whether the distribution of target is consitent across both the sets\n",
        "sentence_ids_list_valid = []\n",
        "for a,b,c,d in roberta_val_dataset:\n",
        "    sentence_ids_list_valid.append(a.tolist())\n",
        "\n",
        "# removing sentence ids from tensor dataset so that it can be used for training \n",
        "roberta_train_dataset = index_remover(roberta_train_dataset)\n",
        "roberta_val_dataset = index_remover(roberta_val_dataset)\n",
        "\n",
        "# Checking whether the distribution of target is consitent across both the sets\n",
        "label_temp_list = []\n",
        "for a,b,c in roberta_train_dataset:\n",
        "    label_temp_list.append(c)\n",
        "\n",
        "print('{:>5,} training samples'.format(train_size))\n",
        "print('{:>5,} training samples with real disater tweets'.format(sum(label_temp_list)))\n",
        "\n",
        "\n",
        "label_temp_list = []\n",
        "for a,b,c in roberta_val_dataset:\n",
        "    label_temp_list.append(c)\n",
        "\n",
        "print('{:>5,} validation samples'.format(val_size))\n",
        "print('{:>5,} validation samples with real disater tweets'.format(sum(label_temp_list)))"
      ],
      "id": "arbitrary-command",
      "execution_count": null,
      "outputs": [
        {
          "output_type": "stream",
          "text": [
            "32,147 training samples\n",
            "16,063 training samples with real disater tweets\n",
            "3,572 validation samples\n",
            "1,791 validation samples with real disater tweets\n"
          ],
          "name": "stdout"
        }
      ]
    },
    {
      "cell_type": "code",
      "metadata": {
        "id": "attached-russell"
      },
      "source": [
        "from torch.utils.data import DataLoader, RandomSampler, SequentialSampler\n",
        "\n",
        "# The DataLoader needs to know our batch size for training, so we specify it \n",
        "# here. For fine-tuning BERT on a specific task, the authors recommend a batch \n",
        "# size of 16 or 32.\n",
        "batch_size = 32\n",
        "\n",
        "# Create the DataLoaders for our training and validation sets.\n",
        "# We'll take training samples in random order. \n",
        "\n",
        "roberta_train_dataloader = DataLoader(\n",
        "            roberta_train_dataset,  # The training samples.\n",
        "            sampler = RandomSampler(roberta_train_dataset), # Select batches randomly\n",
        "            batch_size = batch_size # Trains with this batch size.\n",
        "        )\n",
        "\n",
        "# For validation the order doesn't matter, so we'll just read them sequentially.\n",
        "\n",
        "roberta_validation_dataloader = DataLoader(\n",
        "            roberta_val_dataset, # The validation samples.\n",
        "            sampler = SequentialSampler(roberta_val_dataset), # Pull out batches sequentially.\n",
        "            batch_size = batch_size # Evaluate with this batch size.\n",
        "        )"
      ],
      "id": "attached-russell",
      "execution_count": null,
      "outputs": []
    },
    {
      "cell_type": "code",
      "metadata": {
        "colab": {
          "base_uri": "https://localhost:8080/"
        },
        "id": "bound-fighter",
        "outputId": "c9105143-cce2-4dfd-cc7b-0bc88fbfc174"
      },
      "source": [
        "# Get all of the roberta_model's parameters as a list of tuples.\n",
        "params = list(model.named_parameters())\n",
        "\n",
        "print('The RoBERTa model has {:} different named parameters.\\n'.format(len(params)))\n",
        "\n",
        "print('==== Embedding Layer ====\\n')\n",
        "\n",
        "for p in params[0:5]:\n",
        "    print(\"{:<55} {:>12}\".format(p[0], str(tuple(p[1].size()))))\n",
        "\n",
        "print('\\n==== First Transformer ====\\n')\n",
        "\n",
        "for p in params[5:21]:\n",
        "    print(\"{:<55} {:>12}\".format(p[0], str(tuple(p[1].size()))))\n",
        "\n",
        "print('\\n==== Output Layer ====\\n')\n",
        "\n",
        "for p in params[-4:]:\n",
        "    print(\"{:<55} {:>12}\".format(p[0], str(tuple(p[1].size()))))"
      ],
      "id": "bound-fighter",
      "execution_count": null,
      "outputs": [
        {
          "output_type": "stream",
          "text": [
            "The RoBERTa model has 201 different named parameters.\n",
            "\n",
            "==== Embedding Layer ====\n",
            "\n",
            "roberta.embeddings.word_embeddings.weight               (50265, 768)\n",
            "roberta.embeddings.position_embeddings.weight             (514, 768)\n",
            "roberta.embeddings.token_type_embeddings.weight             (1, 768)\n",
            "roberta.embeddings.LayerNorm.weight                           (768,)\n",
            "roberta.embeddings.LayerNorm.bias                             (768,)\n",
            "\n",
            "==== First Transformer ====\n",
            "\n",
            "roberta.encoder.layer.0.attention.self.query.weight       (768, 768)\n",
            "roberta.encoder.layer.0.attention.self.query.bias             (768,)\n",
            "roberta.encoder.layer.0.attention.self.key.weight         (768, 768)\n",
            "roberta.encoder.layer.0.attention.self.key.bias               (768,)\n",
            "roberta.encoder.layer.0.attention.self.value.weight       (768, 768)\n",
            "roberta.encoder.layer.0.attention.self.value.bias             (768,)\n",
            "roberta.encoder.layer.0.attention.output.dense.weight     (768, 768)\n",
            "roberta.encoder.layer.0.attention.output.dense.bias           (768,)\n",
            "roberta.encoder.layer.0.attention.output.LayerNorm.weight       (768,)\n",
            "roberta.encoder.layer.0.attention.output.LayerNorm.bias       (768,)\n",
            "roberta.encoder.layer.0.intermediate.dense.weight        (3072, 768)\n",
            "roberta.encoder.layer.0.intermediate.dense.bias              (3072,)\n",
            "roberta.encoder.layer.0.output.dense.weight              (768, 3072)\n",
            "roberta.encoder.layer.0.output.dense.bias                     (768,)\n",
            "roberta.encoder.layer.0.output.LayerNorm.weight               (768,)\n",
            "roberta.encoder.layer.0.output.LayerNorm.bias                 (768,)\n",
            "\n",
            "==== Output Layer ====\n",
            "\n",
            "classifier.dense.weight                                   (768, 768)\n",
            "classifier.dense.bias                                         (768,)\n",
            "classifier.out_proj.weight                                  (2, 768)\n",
            "classifier.out_proj.bias                                        (2,)\n"
          ],
          "name": "stdout"
        }
      ]
    },
    {
      "cell_type": "code",
      "metadata": {
        "id": "english-documentation"
      },
      "source": [
        "roberta_optimizer = AdamW(model.parameters(),\n",
        "                  lr = 1e-5, # args.learning_rate - default is 5e-5\n",
        "                )"
      ],
      "id": "english-documentation",
      "execution_count": null,
      "outputs": []
    },
    {
      "cell_type": "code",
      "metadata": {
        "id": "isQfM6rHGRoO"
      },
      "source": [
        "from transformers import get_linear_schedule_with_warmup\n",
        "\n",
        "# Number of training epochs. The BERT authors recommend between 2 and 4. \n",
        "# We chose to run for 2,I have already seen that the model starts overfitting beyound 2 epochs\n",
        "epochs = 4\n",
        "\n",
        "# Total number of training steps is [number of batches] x [number of epochs]. \n",
        "# (Note that this is not the same as the number of training samples).\n",
        "total_steps = len(roberta_train_dataloader) * epochs\n",
        "\n",
        "\n",
        "roberta_scheduler = get_linear_schedule_with_warmup(roberta_optimizer, \n",
        "                                            num_warmup_steps = 0, # Default value in run_glue.py\n",
        "                                            num_training_steps = total_steps)"
      ],
      "id": "isQfM6rHGRoO",
      "execution_count": null,
      "outputs": []
    },
    {
      "cell_type": "code",
      "metadata": {
        "id": "bronze-lover"
      },
      "source": [
        "import numpy as np\n",
        "\n",
        "# Function to calculate the accuracy of our predictions vs labels\n",
        "def flat_accuracy(preds, labels):\n",
        "    pred_flat = np.argmax(preds, axis=1).flatten()\n",
        "    labels_flat = labels.flatten()\n",
        "    return np.sum(pred_flat == labels_flat) / len(labels_flat)"
      ],
      "id": "bronze-lover",
      "execution_count": null,
      "outputs": []
    },
    {
      "cell_type": "code",
      "metadata": {
        "id": "corresponding-crazy"
      },
      "source": [
        "import time\n",
        "import datetime\n",
        "\n",
        "def format_time(elapsed):\n",
        "    '''\n",
        "    Takes a time in seconds and returns a string hh:mm:ss\n",
        "    '''\n",
        "    # Round to the nearest second.\n",
        "    elapsed_rounded = int(round((elapsed)))\n",
        "    \n",
        "    # Format as hh:mm:ss\n",
        "    return str(datetime.timedelta(seconds=elapsed_rounded))"
      ],
      "id": "corresponding-crazy",
      "execution_count": null,
      "outputs": []
    },
    {
      "cell_type": "code",
      "metadata": {
        "id": "1BGM4Q2CGdob"
      },
      "source": [
        "roberta_model = model\n",
        "roberta_model = roberta_model.to(device)"
      ],
      "id": "1BGM4Q2CGdob",
      "execution_count": null,
      "outputs": []
    },
    {
      "cell_type": "code",
      "metadata": {
        "colab": {
          "base_uri": "https://localhost:8080/"
        },
        "id": "rrLrdJ1FGZsg",
        "outputId": "138a47e5-2ab3-418c-f245-51a1e1f7fcf7"
      },
      "source": [
        "import random\n",
        "\n",
        "# This training code is based on the `run_glue.py` script here:\n",
        "# https://github.com/huggingface/transformers/blob/5bfcd0485ece086ebcbed2d008813037968a9e58/examples/run_glue.py#L128\n",
        "\n",
        "# Set the seed value all over the place to make this reproducible.\n",
        "seed_val = 100\n",
        "\n",
        "random.seed(seed_val)\n",
        "np.random.seed(seed_val)\n",
        "torch.manual_seed(seed_val)\n",
        "torch.cuda.manual_seed_all(seed_val)\n",
        "\n",
        "# We'll store a number of quantities such as training and validation loss, \n",
        "# validation accuracy, and timings.\n",
        "roberta_training_stats = []\n",
        "\n",
        "# Measure the total training time for the whole run.\n",
        "total_t0 = time.time()\n",
        "\n",
        "# For each epoch...\n",
        "for epoch_i in range(0, epochs):\n",
        "    \n",
        "    # ========================================\n",
        "    #               Training\n",
        "    # ========================================\n",
        "    \n",
        "    # Perform one full pass over the training set.\n",
        "\n",
        "    print(\"\")\n",
        "    print('======== Epoch {:} / {:} ========'.format(epoch_i + 1, epochs))\n",
        "    print('Training...')\n",
        "\n",
        "    # Measure how long the training epoch takes.\n",
        "    t0 = time.time()\n",
        "\n",
        "    # Reset the total loss for this epoch.\n",
        "    total_train_loss = 0\n",
        "\n",
        "    # Put the roberta_model into training mode. Don't be mislead--the call to \n",
        "    # `train` just changes the *mode*, it doesn't *perform* the training.\n",
        "    # `dropout` and `batchnorm` layers behave differently during training\n",
        "    # vs. test (source: https://stackoverflow.com/questions/51433378/what-does-roberta_model-train-do-in-pytorch)\n",
        "    roberta_model.train()\n",
        "\n",
        "    # For each batch of training data...\n",
        "    for step, batch in enumerate(roberta_train_dataloader):\n",
        "\n",
        "        # Progress update every 40 batches.\n",
        "        if step % 40 == 0 and not step == 0:\n",
        "            # Calculate elapsed time in minutes.\n",
        "            elapsed = format_time(time.time() - t0)\n",
        "            \n",
        "            # Report progress.\n",
        "            print('  Batch {:>5,}  of  {:>5,}.    Elapsed: {:}.'.format(step, len(roberta_train_dataloader), elapsed))\n",
        "\n",
        "        # Unpack this training batch from our dataloader. \n",
        "        #\n",
        "        # As we unpack the batch, we'll also copy each tensor to the GPU using the \n",
        "        # `to` method.\n",
        "        #\n",
        "        # `batch` contains three pytorch tensors:\n",
        "        #   [0]: input ids \n",
        "        #   [1]: attention masks\n",
        "        #   [2]: labels \n",
        "        b_input_ids = batch[0].to(device)\n",
        "        b_input_mask = batch[1].to(device)\n",
        "        b_labels = batch[2].to(device)\n",
        "\n",
        "        # Always clear any previously calculated gradients before performing a\n",
        "        # backward pass. PyTorch doesn't do this automatically because \n",
        "        # accumulating the gradients is \"convenient while training RNNs\". \n",
        "        # (source: https://stackoverflow.com/questions/48001598/why-do-we-need-to-call-zero-grad-in-pytorch)\n",
        "        roberta_model.zero_grad()        \n",
        "\n",
        "        # Perform a forward pass (evaluate the roberta_model on this training batch).\n",
        "        # The documentation for this `roberta_model` function is here: \n",
        "        # https://huggingface.co/transformers/v2.2.0/roberta_model_doc/bert.html#transformers.BertForSequenceClassification\n",
        "        # It returns different numbers of parameters depending on what arguments\n",
        "        # are given and what flags are set. For our usage here, it returns\n",
        "        # the loss (because we provided labels) and the \"logits\"--the roberta_model\n",
        "        # outputs prior to activation.\n",
        "        loss, logits = roberta_model(b_input_ids, \n",
        "#                              token_type_ids=None, \n",
        "                             attention_mask=b_input_mask, \n",
        "                             labels=b_labels,\n",
        "                              return_dict=False\n",
        "                              )\n",
        "\n",
        "        # Accumulate the training loss over all of the batches so that we can\n",
        "        # calculate the average loss at the end. `loss` is a Tensor containing a\n",
        "        # single value; the `.item()` function just returns the Python value \n",
        "        # from the tensor.\n",
        "        total_train_loss += loss.item()\n",
        "\n",
        "        # Perform a backward pass to calculate the gradients.\n",
        "        loss.backward()\n",
        "\n",
        "        # Clip the norm of the gradients to 1.0.\n",
        "        # This is to help prevent the \"exploding gradients\" problem.\n",
        "        torch.nn.utils.clip_grad_norm_(roberta_model.parameters(), 1.0)\n",
        "\n",
        "        # Update parameters and take a step using the computed gradient.\n",
        "        # The roberta_optimizer dictates the \"update rule\"--how the parameters are\n",
        "        # modified based on their gradients, the learning rate, etc.\n",
        "        roberta_optimizer.step()\n",
        "\n",
        "        # Update the learning rate.\n",
        "        roberta_scheduler.step()\n",
        "\n",
        "    # Calculate the average loss over all of the batches.\n",
        "    avg_train_loss = total_train_loss / len(roberta_train_dataloader)            \n",
        "    \n",
        "    # Measure how long this epoch took.\n",
        "    training_time = format_time(time.time() - t0)\n",
        "\n",
        "    print(\"\")\n",
        "    print(\"  Average training loss: {0:.2f}\".format(avg_train_loss))\n",
        "    print(\"  Training epcoh took: {:}\".format(training_time))\n",
        "        \n",
        "    # ========================================\n",
        "    #               Validation\n",
        "    # ========================================\n",
        "    # After the completion of each training epoch, measure our performance on\n",
        "    # our validation set.\n",
        "\n",
        "    print(\"\")\n",
        "    print(\"Running Validation...\")\n",
        "\n",
        "    t0 = time.time()\n",
        "\n",
        "    # Put the roberta_model in evaluation mode--the dropout layers behave differently\n",
        "    # during evaluation.\n",
        "    roberta_model.eval()\n",
        "\n",
        "    # Tracking variables \n",
        "    total_eval_accuracy = 0\n",
        "    total_eval_loss = 0\n",
        "    nb_eval_steps = 0\n",
        "\n",
        "    # Evaluate data for one epoch\n",
        "    for batch in roberta_validation_dataloader:\n",
        "        \n",
        "        # Unpack this training batch from our dataloader. \n",
        "        #\n",
        "        # As we unpack the batch, we'll also copy each tensor to the GPU using \n",
        "        # the `to` method.\n",
        "        #\n",
        "        # `batch` contains three pytorch tensors:\n",
        "        #   [0]: input ids \n",
        "        #   [1]: attention masks\n",
        "        #   [2]: labels \n",
        "        b_input_ids = batch[0].to(device)\n",
        "        b_input_mask = batch[1].to(device)\n",
        "        b_labels = batch[2].to(device)\n",
        "        \n",
        "        # Tell pytorch not to bother with constructing the compute graph during\n",
        "        # the forward pass, since this is only needed for backprop (training).\n",
        "        with torch.no_grad():        \n",
        "\n",
        "            # Forward pass, calculate logit predictions.\n",
        "            # token_type_ids is the same as the \"segment ids\", which \n",
        "            # differentiates sentence 1 and 2 in 2-sentence tasks.\n",
        "            # Get the \"logits\" output by the roberta_model. The \"logits\" are the output\n",
        "            # values prior to applying an activation function like the softmax.\n",
        "            (loss, logits) = roberta_model(b_input_ids, \n",
        "#                                    token_type_ids=None, \n",
        "                                   attention_mask=b_input_mask,\n",
        "                                   labels=b_labels,\n",
        "                                  return_dict=False\n",
        "                                  )\n",
        "            \n",
        "        # Accumulate the validation loss.\n",
        "        total_eval_loss += loss.item()\n",
        "\n",
        "        # Move logits and labels to CPU\n",
        "        logits = logits.detach().cpu().numpy()\n",
        "        label_ids = b_labels.to('cpu').numpy()\n",
        "\n",
        "        # Calculate the accuracy for this batch of test sentences, and\n",
        "        # accumulate it over all batches.\n",
        "        total_eval_accuracy += flat_accuracy(logits, label_ids)\n",
        "        \n",
        "\n",
        "    # Report the final accuracy for this validation run.\n",
        "    avg_val_accuracy = total_eval_accuracy / len(roberta_validation_dataloader)\n",
        "    print(\"  Accuracy: {0:.2f}\".format(avg_val_accuracy))\n",
        "\n",
        "    # Calculate the average loss over all of the batches.\n",
        "    avg_val_loss = total_eval_loss / len(roberta_validation_dataloader)\n",
        "    \n",
        "    # Measure how long the validation run took.\n",
        "    validation_time = format_time(time.time() - t0)\n",
        "    \n",
        "    print(\"  Validation Loss: {0:.2f}\".format(avg_val_loss))\n",
        "    print(\"  Validation took: {:}\".format(validation_time))\n",
        "\n",
        "    # Record all statistics from this epoch.\n",
        "    roberta_training_stats.append(\n",
        "        {\n",
        "            'epoch': epoch_i + 1,\n",
        "            'Training Loss': avg_train_loss,\n",
        "            'Valid. Loss': avg_val_loss,\n",
        "            'Valid. Accur.': avg_val_accuracy,\n",
        "            'Training Time': training_time,\n",
        "            'Validation Time': validation_time\n",
        "        }\n",
        "    )\n",
        "\n",
        "print(\"\")\n",
        "print(\"Training complete!\")\n",
        "\n",
        "print(\"Total training took {:} (h:mm:ss)\".format(format_time(time.time()-total_t0)))"
      ],
      "id": "rrLrdJ1FGZsg",
      "execution_count": null,
      "outputs": [
        {
          "output_type": "stream",
          "text": [
            "\n",
            "======== Epoch 1 / 4 ========\n",
            "Training...\n",
            "  Batch    40  of  1,005.    Elapsed: 0:00:07.\n",
            "  Batch    80  of  1,005.    Elapsed: 0:00:14.\n",
            "  Batch   120  of  1,005.    Elapsed: 0:00:22.\n",
            "  Batch   160  of  1,005.    Elapsed: 0:00:29.\n",
            "  Batch   200  of  1,005.    Elapsed: 0:00:37.\n",
            "  Batch   240  of  1,005.    Elapsed: 0:00:44.\n",
            "  Batch   280  of  1,005.    Elapsed: 0:00:51.\n",
            "  Batch   320  of  1,005.    Elapsed: 0:00:58.\n",
            "  Batch   360  of  1,005.    Elapsed: 0:01:06.\n",
            "  Batch   400  of  1,005.    Elapsed: 0:01:13.\n",
            "  Batch   440  of  1,005.    Elapsed: 0:01:20.\n",
            "  Batch   480  of  1,005.    Elapsed: 0:01:27.\n",
            "  Batch   520  of  1,005.    Elapsed: 0:01:34.\n",
            "  Batch   560  of  1,005.    Elapsed: 0:01:41.\n",
            "  Batch   600  of  1,005.    Elapsed: 0:01:49.\n",
            "  Batch   640  of  1,005.    Elapsed: 0:01:56.\n",
            "  Batch   680  of  1,005.    Elapsed: 0:02:03.\n",
            "  Batch   720  of  1,005.    Elapsed: 0:02:10.\n",
            "  Batch   760  of  1,005.    Elapsed: 0:02:18.\n",
            "  Batch   800  of  1,005.    Elapsed: 0:02:25.\n",
            "  Batch   840  of  1,005.    Elapsed: 0:02:32.\n",
            "  Batch   880  of  1,005.    Elapsed: 0:02:39.\n",
            "  Batch   920  of  1,005.    Elapsed: 0:02:46.\n",
            "  Batch   960  of  1,005.    Elapsed: 0:02:54.\n",
            "  Batch 1,000  of  1,005.    Elapsed: 0:03:01.\n",
            "\n",
            "  Average training loss: 0.67\n",
            "  Training epcoh took: 0:03:02\n",
            "\n",
            "Running Validation...\n",
            "  Accuracy: 0.61\n",
            "  Validation Loss: 0.65\n",
            "  Validation took: 0:00:06\n",
            "\n",
            "======== Epoch 2 / 4 ========\n",
            "Training...\n",
            "  Batch    40  of  1,005.    Elapsed: 0:00:07.\n",
            "  Batch    80  of  1,005.    Elapsed: 0:00:14.\n",
            "  Batch   120  of  1,005.    Elapsed: 0:00:22.\n",
            "  Batch   160  of  1,005.    Elapsed: 0:00:29.\n",
            "  Batch   200  of  1,005.    Elapsed: 0:00:36.\n",
            "  Batch   240  of  1,005.    Elapsed: 0:00:43.\n",
            "  Batch   280  of  1,005.    Elapsed: 0:00:51.\n",
            "  Batch   320  of  1,005.    Elapsed: 0:00:58.\n",
            "  Batch   360  of  1,005.    Elapsed: 0:01:05.\n",
            "  Batch   400  of  1,005.    Elapsed: 0:01:12.\n",
            "  Batch   440  of  1,005.    Elapsed: 0:01:20.\n",
            "  Batch   480  of  1,005.    Elapsed: 0:01:27.\n",
            "  Batch   520  of  1,005.    Elapsed: 0:01:34.\n",
            "  Batch   560  of  1,005.    Elapsed: 0:01:41.\n",
            "  Batch   600  of  1,005.    Elapsed: 0:01:49.\n",
            "  Batch   640  of  1,005.    Elapsed: 0:01:56.\n",
            "  Batch   680  of  1,005.    Elapsed: 0:02:03.\n",
            "  Batch   720  of  1,005.    Elapsed: 0:02:10.\n",
            "  Batch   760  of  1,005.    Elapsed: 0:02:17.\n",
            "  Batch   800  of  1,005.    Elapsed: 0:02:25.\n",
            "  Batch   840  of  1,005.    Elapsed: 0:02:32.\n",
            "  Batch   880  of  1,005.    Elapsed: 0:02:39.\n",
            "  Batch   920  of  1,005.    Elapsed: 0:02:46.\n",
            "  Batch   960  of  1,005.    Elapsed: 0:02:53.\n",
            "  Batch 1,000  of  1,005.    Elapsed: 0:03:01.\n",
            "\n",
            "  Average training loss: 0.64\n",
            "  Training epcoh took: 0:03:02\n",
            "\n",
            "Running Validation...\n",
            "  Accuracy: 0.61\n",
            "  Validation Loss: 0.64\n",
            "  Validation took: 0:00:06\n",
            "\n",
            "======== Epoch 3 / 4 ========\n",
            "Training...\n",
            "  Batch    40  of  1,005.    Elapsed: 0:00:07.\n",
            "  Batch    80  of  1,005.    Elapsed: 0:00:14.\n",
            "  Batch   120  of  1,005.    Elapsed: 0:00:22.\n",
            "  Batch   160  of  1,005.    Elapsed: 0:00:29.\n",
            "  Batch   200  of  1,005.    Elapsed: 0:00:36.\n",
            "  Batch   240  of  1,005.    Elapsed: 0:00:43.\n",
            "  Batch   280  of  1,005.    Elapsed: 0:00:51.\n",
            "  Batch   320  of  1,005.    Elapsed: 0:00:58.\n",
            "  Batch   360  of  1,005.    Elapsed: 0:01:05.\n",
            "  Batch   400  of  1,005.    Elapsed: 0:01:12.\n",
            "  Batch   440  of  1,005.    Elapsed: 0:01:19.\n",
            "  Batch   480  of  1,005.    Elapsed: 0:01:27.\n",
            "  Batch   520  of  1,005.    Elapsed: 0:01:34.\n",
            "  Batch   560  of  1,005.    Elapsed: 0:01:41.\n",
            "  Batch   600  of  1,005.    Elapsed: 0:01:48.\n",
            "  Batch   640  of  1,005.    Elapsed: 0:01:56.\n",
            "  Batch   680  of  1,005.    Elapsed: 0:02:03.\n",
            "  Batch   720  of  1,005.    Elapsed: 0:02:10.\n",
            "  Batch   760  of  1,005.    Elapsed: 0:02:17.\n",
            "  Batch   800  of  1,005.    Elapsed: 0:02:25.\n",
            "  Batch   840  of  1,005.    Elapsed: 0:02:32.\n",
            "  Batch   880  of  1,005.    Elapsed: 0:02:39.\n",
            "  Batch   920  of  1,005.    Elapsed: 0:02:46.\n",
            "  Batch   960  of  1,005.    Elapsed: 0:02:53.\n",
            "  Batch 1,000  of  1,005.    Elapsed: 0:03:01.\n",
            "\n",
            "  Average training loss: 0.61\n",
            "  Training epcoh took: 0:03:02\n",
            "\n",
            "Running Validation...\n",
            "  Accuracy: 0.62\n",
            "  Validation Loss: 0.64\n",
            "  Validation took: 0:00:06\n",
            "\n",
            "======== Epoch 4 / 4 ========\n",
            "Training...\n",
            "  Batch    40  of  1,005.    Elapsed: 0:00:07.\n",
            "  Batch    80  of  1,005.    Elapsed: 0:00:14.\n",
            "  Batch   120  of  1,005.    Elapsed: 0:00:22.\n",
            "  Batch   160  of  1,005.    Elapsed: 0:00:29.\n",
            "  Batch   200  of  1,005.    Elapsed: 0:00:36.\n",
            "  Batch   240  of  1,005.    Elapsed: 0:00:43.\n",
            "  Batch   280  of  1,005.    Elapsed: 0:00:51.\n",
            "  Batch   320  of  1,005.    Elapsed: 0:00:58.\n",
            "  Batch   360  of  1,005.    Elapsed: 0:01:05.\n",
            "  Batch   400  of  1,005.    Elapsed: 0:01:12.\n",
            "  Batch   440  of  1,005.    Elapsed: 0:01:20.\n",
            "  Batch   480  of  1,005.    Elapsed: 0:01:27.\n",
            "  Batch   520  of  1,005.    Elapsed: 0:01:34.\n",
            "  Batch   560  of  1,005.    Elapsed: 0:01:41.\n",
            "  Batch   600  of  1,005.    Elapsed: 0:01:48.\n",
            "  Batch   640  of  1,005.    Elapsed: 0:01:56.\n",
            "  Batch   680  of  1,005.    Elapsed: 0:02:03.\n",
            "  Batch   720  of  1,005.    Elapsed: 0:02:10.\n",
            "  Batch   760  of  1,005.    Elapsed: 0:02:17.\n",
            "  Batch   800  of  1,005.    Elapsed: 0:02:25.\n",
            "  Batch   840  of  1,005.    Elapsed: 0:02:32.\n",
            "  Batch   880  of  1,005.    Elapsed: 0:02:39.\n",
            "  Batch   920  of  1,005.    Elapsed: 0:02:46.\n",
            "  Batch   960  of  1,005.    Elapsed: 0:02:54.\n",
            "  Batch 1,000  of  1,005.    Elapsed: 0:03:01.\n",
            "\n",
            "  Average training loss: 0.59\n",
            "  Training epcoh took: 0:03:02\n",
            "\n",
            "Running Validation...\n",
            "  Accuracy: 0.63\n",
            "  Validation Loss: 0.65\n",
            "  Validation took: 0:00:06\n",
            "\n",
            "Training complete!\n",
            "Total training took 0:12:30 (h:mm:ss)\n"
          ],
          "name": "stdout"
        }
      ]
    },
    {
      "cell_type": "code",
      "metadata": {
        "id": "gUOliml5jjEy"
      },
      "source": [
        "torch.save(roberta_model, f'{pwd}/roberta_model_4_epochs.pth')"
      ],
      "id": "gUOliml5jjEy",
      "execution_count": null,
      "outputs": []
    },
    {
      "cell_type": "code",
      "metadata": {
        "colab": {
          "base_uri": "https://localhost:8080/",
          "height": 191
        },
        "id": "HCfMCXvHm73o",
        "outputId": "adf54ec4-2151-4160-843e-2312ea4e0973"
      },
      "source": [
        "import pandas as pd\n",
        "\n",
        "# Display floats with two decimal places.\n",
        "pd.set_option('precision', 2)\n",
        "\n",
        "# Create a DataFrame from our training statistics.\n",
        "df_stats = pd.DataFrame(data=roberta_training_stats)\n",
        "\n",
        "# Use the 'epoch' as the row index.\n",
        "df_stats = df_stats.set_index('epoch')\n",
        "\n",
        "# A hack to force the column headers to wrap.\n",
        "#df = df.style.set_table_styles([dict(selector=\"th\",props=[('max-width', '70px')])])\n",
        "\n",
        "# Display the table.\n",
        "df_stats"
      ],
      "id": "HCfMCXvHm73o",
      "execution_count": null,
      "outputs": [
        {
          "output_type": "execute_result",
          "data": {
            "text/html": [
              "<div>\n",
              "<style scoped>\n",
              "    .dataframe tbody tr th:only-of-type {\n",
              "        vertical-align: middle;\n",
              "    }\n",
              "\n",
              "    .dataframe tbody tr th {\n",
              "        vertical-align: top;\n",
              "    }\n",
              "\n",
              "    .dataframe thead th {\n",
              "        text-align: right;\n",
              "    }\n",
              "</style>\n",
              "<table border=\"1\" class=\"dataframe\">\n",
              "  <thead>\n",
              "    <tr style=\"text-align: right;\">\n",
              "      <th></th>\n",
              "      <th>Training Loss</th>\n",
              "      <th>Valid. Loss</th>\n",
              "      <th>Valid. Accur.</th>\n",
              "      <th>Training Time</th>\n",
              "      <th>Validation Time</th>\n",
              "    </tr>\n",
              "    <tr>\n",
              "      <th>epoch</th>\n",
              "      <th></th>\n",
              "      <th></th>\n",
              "      <th></th>\n",
              "      <th></th>\n",
              "      <th></th>\n",
              "    </tr>\n",
              "  </thead>\n",
              "  <tbody>\n",
              "    <tr>\n",
              "      <th>1</th>\n",
              "      <td>0.67</td>\n",
              "      <td>0.65</td>\n",
              "      <td>0.61</td>\n",
              "      <td>0:03:02</td>\n",
              "      <td>0:00:06</td>\n",
              "    </tr>\n",
              "    <tr>\n",
              "      <th>2</th>\n",
              "      <td>0.64</td>\n",
              "      <td>0.64</td>\n",
              "      <td>0.61</td>\n",
              "      <td>0:03:02</td>\n",
              "      <td>0:00:06</td>\n",
              "    </tr>\n",
              "    <tr>\n",
              "      <th>3</th>\n",
              "      <td>0.61</td>\n",
              "      <td>0.64</td>\n",
              "      <td>0.62</td>\n",
              "      <td>0:03:02</td>\n",
              "      <td>0:00:06</td>\n",
              "    </tr>\n",
              "    <tr>\n",
              "      <th>4</th>\n",
              "      <td>0.59</td>\n",
              "      <td>0.65</td>\n",
              "      <td>0.63</td>\n",
              "      <td>0:03:02</td>\n",
              "      <td>0:00:06</td>\n",
              "    </tr>\n",
              "  </tbody>\n",
              "</table>\n",
              "</div>"
            ],
            "text/plain": [
              "       Training Loss  Valid. Loss  Valid. Accur. Training Time Validation Time\n",
              "epoch                                                                         \n",
              "1               0.67         0.65           0.61       0:03:02         0:00:06\n",
              "2               0.64         0.64           0.61       0:03:02         0:00:06\n",
              "3               0.61         0.64           0.62       0:03:02         0:00:06\n",
              "4               0.59         0.65           0.63       0:03:02         0:00:06"
            ]
          },
          "metadata": {
            "tags": []
          },
          "execution_count": 105
        }
      ]
    },
    {
      "cell_type": "code",
      "metadata": {
        "colab": {
          "base_uri": "https://localhost:8080/",
          "height": 427
        },
        "id": "operating-occurrence",
        "outputId": "002db61d-c44e-4528-b1fb-418327822e70"
      },
      "source": [
        "import matplotlib.pyplot as plt\n",
        "%matplotlib inline\n",
        "\n",
        "import seaborn as sns\n",
        "\n",
        "# Use plot styling from seaborn.\n",
        "sns.set(style='darkgrid')\n",
        "\n",
        "# Increase the plot size and font size.\n",
        "sns.set(font_scale=1.5)\n",
        "plt.rcParams[\"figure.figsize\"] = (12,6)\n",
        "\n",
        "# Plot the learning curve.\n",
        "plt.plot(df_stats['Training Loss'], 'b-o', label=\"Training\")\n",
        "plt.plot(df_stats['Valid. Loss'], 'g-o', label=\"Validation\")\n",
        "\n",
        "# Label the plot.\n",
        "plt.title(\"Training & Validation Loss\")\n",
        "plt.xlabel(\"Epoch\")\n",
        "plt.ylabel(\"Loss\")\n",
        "plt.legend()\n",
        "plt.xticks([1, 2, 3, 4])\n",
        "\n",
        "plt.show()"
      ],
      "id": "operating-occurrence",
      "execution_count": null,
      "outputs": [
        {
          "output_type": "display_data",
          "data": {
            "image/png": "[encoded data removed]",
            "text/plain": [
              "<Figure size 864x432 with 1 Axes>"
            ]
          },
          "metadata": {
            "tags": []
          }
        }
      ]
    },
    {
      "cell_type": "code",
      "metadata": {
        "id": "general-subscription"
      },
      "source": [
        "import pandas as pd\n",
        "\n",
        "# Load the dataset into a pandas dataframe.\n",
        "df  = df.iloc[sentence_ids_list_valid,]"
      ],
      "id": "general-subscription",
      "execution_count": null,
      "outputs": []
    },
    {
      "cell_type": "code",
      "metadata": {
        "id": "mineral-exploration"
      },
      "source": [
        "#sentences = df['removed_stop_and_lem']"
      ],
      "id": "mineral-exploration",
      "execution_count": null,
      "outputs": []
    },
    {
      "cell_type": "code",
      "metadata": {
        "colab": {
          "base_uri": "https://localhost:8080/"
        },
        "id": "white-desktop",
        "outputId": "4ea2c450-236b-48fc-993a-a2fa8b48df80"
      },
      "source": [
        "# Report the number of sentences.\n",
        "print('Number of test sentences: {:,}\\n'.format(df.shape[0]))\n",
        "\n",
        "# Create sentence and label lists\n",
        "sentences = df['removed_stop_and_lem'].values\n",
        "labels = df['class'].values\n",
        "\n",
        "# Tokenize all of the sentences and map the tokens to thier word IDs.\n",
        "input_ids = []\n",
        "attention_masks = []\n",
        "\n",
        "# For every sentence...\n",
        "for sent in sentences:\n",
        "    # `encode_plus` will:\n",
        "    #   (1) Tokenize the sentence.\n",
        "    #   (2) Prepend the `[CLS]` token to the start.\n",
        "    #   (3) Append the `[SEP]` token to the end.\n",
        "    #   (4) Map tokens to their IDs.\n",
        "    #   (5) Pad or truncate the sentence to `max_length`\n",
        "    #   (6) Create attention masks for [PAD] tokens.\n",
        "    encoded_dict = roberta_tokenizer.encode_plus(\n",
        "                        sent,                      # Sentence to encode.\n",
        "                        add_special_tokens = True, # Add '[CLS]' and '[SEP]'\n",
        "                        max_length = 75,           # Pad & truncate all sentences.\n",
        "                        pad_to_max_length = True,\n",
        "                        return_attention_mask = True,   # Construct attn. masks.\n",
        "                        return_tensors = 'pt',     # Return pytorch tensors.\n",
        "                   )\n",
        "    \n",
        "    # Add the encoded sentence to the list.    \n",
        "    input_ids.append(encoded_dict['input_ids'])\n",
        "    \n",
        "    # And its attention mask (simply differentiates padding from non-padding).\n",
        "    attention_masks.append(encoded_dict['attention_mask'])\n",
        "\n",
        "# Convert the lists into tensors.\n",
        "input_ids = torch.cat(input_ids, dim=0)\n",
        "attention_masks = torch.cat(attention_masks, dim=0)\n",
        "labels = torch.tensor(labels)\n",
        "\n",
        "# Set the batch size.  \n",
        "batch_size = 32  \n",
        "\n",
        "# Create the DataLoader.\n",
        "prediction_data = TensorDataset(input_ids, attention_masks, labels)\n",
        "# prediction_data = TensorDataset(input_ids, attention_masks)\n",
        "prediction_sampler = SequentialSampler(prediction_data)\n",
        "prediction_dataloader = DataLoader(prediction_data, sampler=prediction_sampler, batch_size=batch_size)"
      ],
      "id": "white-desktop",
      "execution_count": null,
      "outputs": [
        {
          "output_type": "stream",
          "text": [
            "Number of test sentences: 3,572\n",
            "\n"
          ],
          "name": "stdout"
        },
        {
          "output_type": "stream",
          "text": [
            "/usr/local/lib/python3.7/dist-packages/transformers/tokenization_utils_base.py:2132: FutureWarning: The `pad_to_max_length` argument is deprecated and will be removed in a future version, use `padding=True` or `padding='longest'` to pad to the longest sequence in the batch, or use `padding='max_length'` to pad to a max length. In this case, you can give a specific length with `max_length` (e.g. `max_length=45`) or leave max_length to None to pad to the maximal input size of the model (e.g. 512 for Bert).\n",
            "  FutureWarning,\n"
          ],
          "name": "stderr"
        }
      ]
    },
    {
      "cell_type": "code",
      "metadata": {
        "colab": {
          "base_uri": "https://localhost:8080/"
        },
        "id": "million-montreal",
        "outputId": "fa10b371-65d1-45e7-9cc5-b627a09c3b37"
      },
      "source": [
        "# Prediction on test set\n",
        "\n",
        "print('Predicting labels for {:,} test sentences...'.format(len(input_ids)))\n",
        "\n",
        "# Put model in evaluation mode\n",
        "model.eval()\n",
        "\n",
        "# Tracking variables \n",
        "predictions , true_labels = [], []\n",
        "\n",
        "# Predict \n",
        "for batch in prediction_dataloader:\n",
        "  # Add batch to GPU\n",
        "  batch = tuple(t.to(device) for t in batch)\n",
        "  \n",
        "  # Unpack the inputs from our dataloader\n",
        "  b_input_ids, b_input_mask, b_labels = batch\n",
        "#   b_input_ids, b_input_mask = batch\n",
        "  \n",
        "  # Telling the model not to compute or store gradients, saving memory and \n",
        "  # speeding up prediction\n",
        "  with torch.no_grad():\n",
        "      # Forward pass, calculate logit predictions\n",
        "      outputs = model(b_input_ids, token_type_ids=None, \n",
        "                      attention_mask=b_input_mask)\n",
        "\n",
        "  logits = outputs[0]\n",
        "\n",
        "  # Move logits and labels to CPU\n",
        "  logits = logits.detach().cpu().numpy()\n",
        "  label_ids = b_labels.to('cpu').numpy()\n",
        "  \n",
        "  # Store predictions and true labels\n",
        "  predictions.append(logits)\n",
        "  true_labels.append(label_ids)\n",
        "\n",
        "print('    DONE.')"
      ],
      "id": "million-montreal",
      "execution_count": null,
      "outputs": [
        {
          "output_type": "stream",
          "text": [
            "Predicting labels for 3,572 test sentences...\n",
            "    DONE.\n"
          ],
          "name": "stdout"
        }
      ]
    },
    {
      "cell_type": "code",
      "metadata": {
        "id": "IVH6yHhx2s0s",
        "colab": {
          "base_uri": "https://localhost:8080/"
        },
        "outputId": "bd07498d-039d-4aff-9393-4608f43ff6b9"
      },
      "source": [
        "print('Positive samples: %d of %d (%.2f%%)' % (df['class'].sum(), len(df['class']), (df['class'].sum() / len(df['class']) * 100.0)))"
      ],
      "id": "IVH6yHhx2s0s",
      "execution_count": null,
      "outputs": [
        {
          "output_type": "stream",
          "text": [
            "Positive samples: 1791 of 3572 (50.14%)\n"
          ],
          "name": "stdout"
        }
      ]
    },
    {
      "cell_type": "code",
      "metadata": {
        "colab": {
          "base_uri": "https://localhost:8080/"
        },
        "id": "k8D8n94NVd2i",
        "outputId": "6c52a0e1-32bf-461c-a70b-b267bba456e0"
      },
      "source": [
        "from sklearn.metrics import matthews_corrcoef, confusion_matrix\n",
        "\n",
        "matthews_set = []\n",
        "\n",
        "# Evaluate each test batch using Matthew's correlation coefficient\n",
        "print('Calculating Matthews Corr. Coef. for each batch...')\n",
        "pred_labels = []\n",
        "# For each input batch...\n",
        "for i in range(len(true_labels)):\n",
        "  \n",
        "  # The predictions for this batch are a 2-column ndarray (one column for \"0\" \n",
        "  # and one column for \"1\"). Pick the label with the highest value and turn this\n",
        "  # in to a list of 0s and 1s.\n",
        "  pred_labels_i = np.argmax(predictions[i], axis=1).flatten()\n",
        "  pred_labels.append(pred_labels_i)\n",
        "  \n",
        "  # Calculate and store the coef for this batch.  \n",
        "  matthews = matthews_corrcoef(true_labels[i], pred_labels_i)                \n",
        "  matthews_set.append(matthews)"
      ],
      "id": "k8D8n94NVd2i",
      "execution_count": null,
      "outputs": [
        {
          "output_type": "stream",
          "text": [
            "Calculating Matthews Corr. Coef. for each batch...\n"
          ],
          "name": "stdout"
        }
      ]
    },
    {
      "cell_type": "code",
      "metadata": {
        "colab": {
          "base_uri": "https://localhost:8080/",
          "height": 427
        },
        "id": "hcF2ImV8Vep4",
        "outputId": "1e12e3d9-246d-48c2-fdc9-4be15a23a976"
      },
      "source": [
        "# Create a barplot showing the MCC score for each batch of test samples.\n",
        "ax = sns.barplot(x=list(range(len(matthews_set))), y=matthews_set, ci=None)\n",
        "\n",
        "plt.title('MCC Score per Batch')\n",
        "plt.ylabel('MCC Score (-1 to +1)')\n",
        "plt.xlabel('Batch #')\n",
        "\n",
        "plt.show()"
      ],
      "id": "hcF2ImV8Vep4",
      "execution_count": null,
      "outputs": [
        {
          "output_type": "display_data",
          "data": {
            "image/png": "[encoded data removed]",
            "text/plain": [
              "<Figure size 864x432 with 1 Axes>"
            ]
          },
          "metadata": {
            "tags": []
          }
        }
      ]
    },
    {
      "cell_type": "code",
      "metadata": {
        "colab": {
          "base_uri": "https://localhost:8080/"
        },
        "id": "jyjH-eKMVgKY",
        "outputId": "80402e71-25a9-446e-c868-a6dbe69372cc"
      },
      "source": [
        "# Combine the results across all batches. \n",
        "flat_predictions = np.concatenate(predictions, axis=0)\n",
        "\n",
        "# For each sample, pick the label (0 or 1) with the higher score.\n",
        "flat_predictions = np.argmax(flat_predictions, axis=1).flatten()\n",
        "\n",
        "# adding to the main datframe\n",
        "df['target'] = flat_predictions\n",
        "\n",
        "# Combine the correct labels for each batch into a single list.\n",
        "flat_true_labels = np.concatenate(true_labels, axis=0)\n",
        "\n",
        "# Calculate the MCC\n",
        "# mcc = matthews_corrcoef(flat_true_labels, flat_predictions)\n",
        "\n",
        "def get_eval_report(labels, preds):\n",
        "    mcc = matthews_corrcoef(labels, preds)\n",
        "    tn, fp, fn, tp = confusion_matrix(labels, preds).ravel()\n",
        "    return {\n",
        "        \"mcc\": mcc,\n",
        "        \"tp\": tp,\n",
        "        \"tn\": tn,\n",
        "        \"fp\": fp,\n",
        "        \"fn\": fn\n",
        "    }\n",
        "get_eval_report(flat_true_labels, flat_predictions)\n",
        "# print('Total MCC: %.3f' % mcc)"
      ],
      "id": "jyjH-eKMVgKY",
      "execution_count": null,
      "outputs": [
        {
          "output_type": "stream",
          "text": [
            "/usr/local/lib/python3.7/dist-packages/ipykernel_launcher.py:8: SettingWithCopyWarning: \n",
            "A value is trying to be set on a copy of a slice from a DataFrame.\n",
            "Try using .loc[row_indexer,col_indexer] = value instead\n",
            "\n",
            "See the caveats in the documentation: https://pandas.pydata.org/pandas-docs/stable/user_guide/indexing.html#returning-a-view-versus-a-copy\n",
            "  \n"
          ],
          "name": "stderr"
        },
        {
          "output_type": "execute_result",
          "data": {
            "text/plain": [
              "{'fn': 788, 'fp': 543, 'mcc': 0.2574716861331372, 'tn': 1238, 'tp': 1003}"
            ]
          },
          "metadata": {
            "tags": []
          },
          "execution_count": 114
        }
      ]
    },
    {
      "cell_type": "code",
      "metadata": {
        "colab": {
          "base_uri": "https://localhost:8080/",
          "height": 105
        },
        "id": "-Sj0xwQOa-_u",
        "outputId": "edd1ce9e-a7dd-4475-ca44-f768f0ce4d58"
      },
      "source": [
        "# Importing the metrics package from sklearn library\n",
        "from sklearn import metrics\n",
        "# Creating the confusion matrix\n",
        "cm = metrics.confusion_matrix(flat_true_labels, flat_predictions)\n",
        "# Assigning columns names\n",
        "cm_df = pd.DataFrame(cm, \n",
        "            columns = ['Predicted Negative', 'Predicted Positive'],\n",
        "            index = ['Actual Negative', 'Actual Positive'])\n",
        "# Showing the confusion matrix\n",
        "cm_df"
      ],
      "id": "-Sj0xwQOa-_u",
      "execution_count": null,
      "outputs": [
        {
          "output_type": "execute_result",
          "data": {
            "text/html": [
              "<div>\n",
              "<style scoped>\n",
              "    .dataframe tbody tr th:only-of-type {\n",
              "        vertical-align: middle;\n",
              "    }\n",
              "\n",
              "    .dataframe tbody tr th {\n",
              "        vertical-align: top;\n",
              "    }\n",
              "\n",
              "    .dataframe thead th {\n",
              "        text-align: right;\n",
              "    }\n",
              "</style>\n",
              "<table border=\"1\" class=\"dataframe\">\n",
              "  <thead>\n",
              "    <tr style=\"text-align: right;\">\n",
              "      <th></th>\n",
              "      <th>Predicted Negative</th>\n",
              "      <th>Predicted Positive</th>\n",
              "    </tr>\n",
              "  </thead>\n",
              "  <tbody>\n",
              "    <tr>\n",
              "      <th>Actual Negative</th>\n",
              "      <td>1238</td>\n",
              "      <td>543</td>\n",
              "    </tr>\n",
              "    <tr>\n",
              "      <th>Actual Positive</th>\n",
              "      <td>788</td>\n",
              "      <td>1003</td>\n",
              "    </tr>\n",
              "  </tbody>\n",
              "</table>\n",
              "</div>"
            ],
            "text/plain": [
              "                 Predicted Negative  Predicted Positive\n",
              "Actual Negative                1238                 543\n",
              "Actual Positive                 788                1003"
            ]
          },
          "metadata": {
            "tags": []
          },
          "execution_count": 115
        }
      ]
    },
    {
      "cell_type": "code",
      "metadata": {
        "id": "6FALyu-3bN5G"
      },
      "source": [
        "# Creating a function to report confusion metrics\n",
        "def confusion_metrics (conf_matrix):\n",
        "# save confusion matrix and slice into four pieces\n",
        "    TP = conf_matrix[1][1]\n",
        "    TN = conf_matrix[0][0]\n",
        "    FP = conf_matrix[0][1]\n",
        "    FN = conf_matrix[1][0]\n",
        "    print('True Positives:', TP)\n",
        "    print('True Negatives:', TN)\n",
        "    print('False Positives:', FP)\n",
        "    print('False Negatives:', FN)\n",
        "    \n",
        "    # calculate accuracy\n",
        "    conf_accuracy = (float (TP+TN) / float(TP + TN + FP + FN))\n",
        "    \n",
        "    # calculate mis-classification\n",
        "    conf_misclassification = 1- conf_accuracy\n",
        "    \n",
        "    # calculate the sensitivity\n",
        "    conf_sensitivity = (TP / float(TP + FN))\n",
        "    # calculate the specificity\n",
        "    conf_specificity = (TN / float(TN + FP))\n",
        "    \n",
        "    # calculate precision\n",
        "    conf_precision = (TN / float(TN + FP))\n",
        "    # calculate f_1 score\n",
        "    conf_f1 = 2 * ((conf_precision * conf_sensitivity) / (conf_precision + conf_sensitivity))\n",
        "    print('-'*50)\n",
        "    print(f'Accuracy: {round(conf_accuracy,2)}') \n",
        "    print(f'Mis-Classification: {round(conf_misclassification,2)}') \n",
        "    print(f'Sensitivity: {round(conf_sensitivity,2)}') \n",
        "    print(f'Specificity: {round(conf_specificity,2)}') \n",
        "    print(f'Precision: {round(conf_precision,2)}')\n",
        "    print(f'f_1 Score: {round(conf_f1,2)}')"
      ],
      "id": "6FALyu-3bN5G",
      "execution_count": null,
      "outputs": []
    },
    {
      "cell_type": "code",
      "metadata": {
        "colab": {
          "base_uri": "https://localhost:8080/"
        },
        "id": "3FeSY6nbbeld",
        "outputId": "02791078-d0e1-4f5a-a820-6d78ab7a71cf"
      },
      "source": [
        "confusion_metrics(cm_df.to_numpy())"
      ],
      "id": "3FeSY6nbbeld",
      "execution_count": null,
      "outputs": [
        {
          "output_type": "stream",
          "text": [
            "True Positives: 1003\n",
            "True Negatives: 1238\n",
            "False Positives: 543\n",
            "False Negatives: 788\n",
            "--------------------------------------------------\n",
            "Accuracy: 0.63\n",
            "Mis-Classification: 0.37\n",
            "Sensitivity: 0.56\n",
            "Specificity: 0.7\n",
            "Precision: 0.7\n",
            "f_1 Score: 0.62\n"
          ],
          "name": "stdout"
        }
      ]
    },
    {
      "cell_type": "code",
      "metadata": {
        "id": "EaAZtTn_bhOt"
      },
      "source": [
        ""
      ],
      "id": "EaAZtTn_bhOt",
      "execution_count": null,
      "outputs": []
    }
  ]
}